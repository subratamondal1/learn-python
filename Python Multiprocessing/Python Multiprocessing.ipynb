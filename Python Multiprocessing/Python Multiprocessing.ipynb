{
 "cells": [
  {
   "cell_type": "markdown",
   "id": "3da9540b-9754-4e3e-b7ed-e185b4f78e48",
   "metadata": {
    "jp-MarkdownHeadingCollapsed": true
   },
   "source": [
    "# Process and Thread"
   ]
  },
  {
   "cell_type": "markdown",
   "id": "428eb0ba-bdb8-4f43-9cb2-11e3513fe300",
   "metadata": {},
   "source": [
    "A process and a thread are both units of execution, but they have some differences in terms of memory, resources, communication, and performance.\n",
    "\n",
    "## Definition\n",
    "\n",
    "- A **process** is an instance of a program that runs in its own memory space and has its own resources.\n",
    "- A **thread** is a subset of a process that shares the same memory space and resources with other threads of the same process.\n",
    "\n",
    "## Memory and Resources\n",
    "\n",
    "- A process has its own **address space**, which is the range of memory locations that it can access.\n",
    "- A thread shares the address space of its parent process, which means that it can access the same variables and data structures as other threads of the same process.\n",
    "- A process has its own **resources**, such as file descriptors, sockets, and pipes, that it can use to interact with the system or other processes.\n",
    "- A thread shares the resources of its parent process, which means that it can use the same files, sockets, and pipes as other threads of the same process.\n",
    "\n",
    "## Communication\n",
    "\n",
    "- A process is **isolated** from other processes, which means that it cannot directly access or modify the memory or resources of another process.\n",
    "- A thread can **communicate** with other threads of the same process using shared variables or inter-thread communication methods, such as locks, semaphores, or queues.\n",
    "- A process can communicate with another process using inter-process communication methods, such as message passing, shared memory, or remote procedure calls.\n",
    "\n",
    "## Performance\n",
    "\n",
    "- A process takes more time and resources to **create**, **terminate**, and **switch**, which means that it has more overhead and latency than a thread.\n",
    "- A thread takes less time and resources to create, terminate, and switch, which means that it has less overhead and latency than a process.\n",
    "- A process can run multiple threads in **parallel**, which means that it can utilize multiple CPU cores and improve the performance of CPU-bound tasks, such as heavy computations or data processing.\n",
    "- A thread can run only one instruction at a **time**, which means that it can benefit from concurrency but not parallelism. A thread is suitable for I/O-bound tasks, such as web scraping or network requests, because it can wait for the data without blocking the main thread or the program.\n"
   ]
  },
  {
   "cell_type": "markdown",
   "id": "2e962939-5fa3-4959-880f-9ff879e22386",
   "metadata": {},
   "source": [
    "# Python Multithreading and Multiprocessing"
   ]
  },
  {
   "cell_type": "markdown",
   "id": "41576408-7507-4e76-a743-8a5d6899f903",
   "metadata": {},
   "source": [
    "Python offers two techniques to achieve concurrency and parallelism in Python programs: multithreading and multiprocessing.\n",
    "\n",
    "## Concurrency vs Parallelism\n",
    "\n",
    "Concurrency means that multiple tasks can run at the same time, but not necessarily simultaneously. For example, a single CPU core can switch between different tasks quickly, giving the illusion of concurrency.\n",
    "\n",
    "Parallelism means that multiple tasks can run simultaneously on multiple CPU cores. For example, a quad-core CPU can run four tasks at the same time, achieving parallelism.\n",
    "\n",
    "## Multithreading\n",
    "\n",
    "Multithreading allows you to create multiple threads within a single process, which share the same memory space and resources. This is useful for tasks that are I/O-bound, such as web scraping or network requests, because the threads can wait for the data without blocking the main thread.\n",
    "\n",
    "However, multithreading in Python is limited by the Global Interpreter Lock (GIL), which prevents multiple threads from executing Python code at the same time. Therefore, multithreading cannot be used for CPU-bound tasks, such as heavy computations or data processing.\n",
    "\n",
    "## Multiprocessing\n",
    "\n",
    "Multiprocessing allows you to create multiple processes, each with its own memory space and Python interpreter. This enables you to run CPU-bound tasks in parallel, taking advantage of multiple CPU cores. Multiprocessing can also avoid the GIL limitation, since each process has its own Python interpreter.\n",
    "\n",
    "However, multiprocessing has more overhead than multithreading, such as creating and terminating processes, and communicating between processes.\n"
   ]
  },
  {
   "cell_type": "code",
   "execution_count": 10,
   "id": "36bff2d4-06df-4c2c-8c2d-709ea1f8a9c9",
   "metadata": {},
   "outputs": [],
   "source": [
    "import os\n",
    "import time"
   ]
  },
  {
   "cell_type": "code",
   "execution_count": 11,
   "id": "548d7d1d-0f5d-4a6e-87fe-099efd93ff78",
   "metadata": {},
   "outputs": [
    {
     "name": "stdout",
     "output_type": "stream",
     "text": [
      "CPU CORES: 4\n"
     ]
    }
   ],
   "source": [
    "CPU_CORES=os.cpu_count()\n",
    "print(f\"CPU CORES: {CPU_CORES}\")"
   ]
  },
  {
   "cell_type": "code",
   "execution_count": 15,
   "id": "cf9d9d0d-8ee1-40d3-99d1-cde1437404ec",
   "metadata": {},
   "outputs": [
    {
     "name": "stdout",
     "output_type": "stream",
     "text": [
      "Sleeping 1 second\n",
      "Done sleeping\n",
      "Sleeping 1 second\n",
      "Done sleeping\n",
      "\n",
      "Finished in 2 second\n"
     ]
    }
   ],
   "source": [
    "# Start performance counter\n",
    "start=time.perf_counter()\n",
    "\n",
    "def do_something():\n",
    "    print(\"Sleeping 1 second\")\n",
    "    time.sleep(1)\n",
    "    print(\"Done sleeping !!!\")\n",
    "\n",
    "do_something()\n",
    "do_something()\n",
    "\n",
    "# Finish performance counter\n",
    "finish=time.perf_counter()\n",
    "\n",
    "print(f\"\\nFinished in {round(finish-start)} second\")"
   ]
  },
  {
   "cell_type": "code",
   "execution_count": null,
   "id": "47628837-00af-4f06-a37f-9f830d111c9c",
   "metadata": {},
   "outputs": [],
   "source": []
  }
 ],
 "metadata": {
  "kernelspec": {
   "display_name": "Python 3 (ipykernel)",
   "language": "python",
   "name": "python3"
  },
  "language_info": {
   "codemirror_mode": {
    "name": "ipython",
    "version": 3
   },
   "file_extension": ".py",
   "mimetype": "text/x-python",
   "name": "python",
   "nbconvert_exporter": "python",
   "pygments_lexer": "ipython3",
   "version": "3.11.6"
  },
  "widgets": {
   "application/vnd.jupyter.widget-state+json": {
    "state": {},
    "version_major": 2,
    "version_minor": 0
   }
  }
 },
 "nbformat": 4,
 "nbformat_minor": 5
}
