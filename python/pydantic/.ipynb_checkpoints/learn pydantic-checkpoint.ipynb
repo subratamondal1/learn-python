{
 "cells": [
  {
   "cell_type": "markdown",
   "id": "f74e136b-bc3b-48c0-8e36-a986df2c4f11",
   "metadata": {},
   "source": [
    "<h1 align=\"center\">Pydantic</h1>\n",
    "<center>Pydantic is the most widely used data <b>validation</b> and <b>parsing</b> library for Python</center>\n",
    "\n",
    "---\n",
    "\n",
    "- Pydantic is a library that allows you to validate and parse data using Python type annotations.\n",
    "- Pydantic can automatically convert data types during validation, according to the [conversion table](https://docs.pydantic.dev/latest/concepts/conversion_table/).\n",
    "- Pydantic can also define data models with validation rules and default values, which can ensure the reliability and integrity of the data used in your API.\n",
    "- Pydantic can automatically parse data from various formats, such as JSON or form data, into Python objects, based on the defined models.\n",
    "- Pydantic has a `Config.smart_union` option that can prevent type conversion unless the input data is a union of types, such as `Union[int, str]`. This option can be used to avoid unintended conversions and raise a `TypeError` instead."
   ]
  },
  {
   "cell_type": "markdown",
   "id": "27118a0b-1cad-417a-9f84-f2c8b4685d35",
   "metadata": {},
   "source": [
    "<h2 align=\"left\">Basics</h2>"
   ]
  },
  {
   "cell_type": "code",
   "execution_count": null,
   "id": "24ec9d42-7ee0-468f-b8b5-237bb4b07017",
   "metadata": {},
   "outputs": [],
   "source": [
    "import pydantic\n",
    "import os\n",
    "os.sys.path.append(\"/Users/subratamondal/Library/Caches/pypoetry/virtualenvs/programming-languages-OtPTqprN-py3.11/bin/python3\")\n",
    "print(pydantic.__version__)"
   ]
  },
  {
   "cell_type": "code",
   "execution_count": null,
   "id": "1b785dae-98d1-4caf-a894-c5c04d147519",
   "metadata": {},
   "outputs": [],
   "source": [
    "from pydantic import BaseModel"
   ]
  },
  {
   "cell_type": "markdown",
   "id": "7b164e08-b2a9-44ea-af9c-6bde13c881e4",
   "metadata": {},
   "source": [
    "* Notice that `model_fields_set` only prints those arguments or fields that are set by us, and not the default ones."
   ]
  },
  {
   "cell_type": "code",
   "execution_count": null,
   "id": "17e38092-251d-43f2-b564-5e4075c47d87",
   "metadata": {},
   "outputs": [],
   "source": [
    "class User(BaseModel):\n",
    "    id:int\n",
    "    name:str=\"Subrata\"\n",
    "\n",
    "user=User(id=1)\n",
    "print(user.id, user.name, (type(user.id), type(user.name)))\n",
    "print(user.model_fields_set)"
   ]
  },
  {
   "cell_type": "code",
   "execution_count": null,
   "id": "9bb9b989-decf-4508-8293-095ff0bcdcb1",
   "metadata": {},
   "outputs": [],
   "source": [
    "user=User(id=1, name=\"Suvo\")\n",
    "print(user.id, user.name, (type(user.id), type(user.name)))\n",
    "print(user.model_fields_set)"
   ]
  },
  {
   "cell_type": "code",
   "execution_count": null,
   "id": "f4c12fce-57b7-4fa2-b58b-1026b27876ac",
   "metadata": {},
   "outputs": [],
   "source": [
    "user=User(id=\"123\", name=\"Suvo\")\n",
    "print(user.id, user.name, (type(user.id), type(user.name)))\n",
    "print(user.model_fields_set)"
   ]
  },
  {
   "cell_type": "markdown",
   "id": "74d0d985-028c-46b4-afb7-7c0426a28d2b",
   "metadata": {},
   "source": [
    "- `user.model_dump` returns a dictionary representation of the model, with sub-models recursively converted to dictionaries. It can take parameters such as `include`, `exclude`, `by_alias`, `exclude_unset`, `exclude_defaults`, and `exclude_none` to customize the output. It can also handle fields with `Json` type by parsing them into Python objects or keeping them as strings, depending on the `round_trip` parameter.\n",
    "- `user.model_dump_json` returns a JSON string representation of the model, using Pydantic's `to_json` method. It can take the same parameters as `user.model_dump`, as well as `indent`, `sort_keys`, and `ensure_ascii` to format the JSON output.\n",
    "- `user.model_json_schema` returns a dictionary of the JSON schema of the model, compliant with the JSON Schema Draft 2020-12 and OpenAPI extensions. It can take parameters such as `by_alias`, `ref_template`, `schema_generator`, and `mode` to customize the schema generation. It can also handle fields with custom titles, descriptions, default values, and constraints."
   ]
  },
  {
   "cell_type": "code",
   "execution_count": null,
   "id": "fb00a498-d2f8-472b-8c40-1f10499124e7",
   "metadata": {},
   "outputs": [],
   "source": [
    "print(user.model_dump()) # A dictionary representation of the model.\n",
    "print(user.model_dump_json()) # A JSON string representation of the model.\n",
    "print(user.model_json_schema()) # The JSON schema for the given model class."
   ]
  },
  {
   "cell_type": "markdown",
   "id": "29285065-b7ba-484d-935c-c9991c5aadbd",
   "metadata": {},
   "source": [
    "<h2 align=\"left\">Pydantic Nested Models</h2>"
   ]
  },
  {
   "cell_type": "code",
   "execution_count": null,
   "id": "22fae20f-991c-4b93-8039-4a58a1fc8a71",
   "metadata": {},
   "outputs": [],
   "source": [
    "from pydantic import BaseModel\n",
    "from typing import List, Optional\n",
    "\n",
    "class Food(BaseModel):\n",
    "    name:str\n",
    "    price:float\n",
    "    ingredients:Optional[List[str]]=None\n",
    "\n",
    "class Restaurant(BaseModel):\n",
    "    name:str\n",
    "    location:str\n",
    "    foods:List[Food]\n",
    "\n",
    "restaurant=Restaurant(\n",
    "    name=\"Tasty Bites\",\n",
    "    location=\"Jangipur, Murshidabad\",\n",
    "    foods=[\n",
    "        {\"name\":\"Cheese Burger\", \"price\": 50.00},\n",
    "        {\"name\":\"Chicken Biryani\", \"price\": 180.00, \"ingredients\":[\"Masala\", \"Chicken\", \"Rice\"]},\n",
    "    ]\n",
    ")\n",
    "\n",
    "print(restaurant)\n",
    "print(restaurant.model_dump())"
   ]
  },
  {
   "cell_type": "markdown",
   "id": "f9243014-32d1-4b24-b672-d1e0d5ae7c49",
   "metadata": {},
   "source": [
    "<h2 align=\"left\">Pydantic Email Validation</h2>\n",
    "You need install additional package to work with Pydantic Email.\n",
    "\n",
    "```bash\n",
    "pip install email-validator\n",
    "```"
   ]
  },
  {
   "cell_type": "code",
   "execution_count": null,
   "id": "e270ffb7-a4cc-4e83-ba1a-c90f02007d95",
   "metadata": {},
   "outputs": [],
   "source": [
    "import email_validator\n",
    "from pydantic import BaseModel, EmailStr\n",
    "\n",
    "class Model(BaseModel):\n",
    "    email: EmailStr\n",
    "\n",
    "model=Model(email='contact@mail.com')\n",
    "print(model.email)\n",
    "print(model.model_dump())"
   ]
  },
  {
   "cell_type": "code",
   "execution_count": null,
   "id": "e7cbe74b-6fab-4700-add1-dfbdd1e8b49a",
   "metadata": {},
   "outputs": [],
   "source": [
    "from typing import List\n",
    "from pydantic import BaseModel, EmailStr, PositiveInt, conlist, Field, HttpUrl\n",
    "\n",
    "class Address(BaseModel):\n",
    "    street:str\n",
    "    city:str\n",
    "    state:str\n",
    "    zip_code:str\n",
    "\n",
    "class Employee(BaseModel):\n",
    "    name:str\n",
    "    position:str\n",
    "    email:EmailStr\n",
    "\n",
    "class Owner(BaseModel):\n",
    "    name:str\n",
    "    email:EmailStr\n",
    "\n",
    "class Restaurant(BaseModel):\n",
    "    name:str=Field(default=..., pattern=r\"^[a-zA-Z0-9-' ]+$\") \n",
    "    owner:Owner \n",
    "    address:Address\n",
    "    employees:conlist(item_type=Employee, min_length=2)\n",
    "    number_of_seats:PositiveInt\n",
    "    delivery:bool\n",
    "    website:HttpUrl\n",
    "\n",
    "restaurant=Restaurant(\n",
    "    name=\"Tasty Bytes\",\n",
    "    owner={\n",
    "        \"name\":\"Subrata Mondal\",\n",
    "        \"email\":\"subratasubha2@gmail.com\"\n",
    "    },\n",
    "    address={\n",
    "        \"street\": \"Dastamara Road, Murshidabad\",\n",
    "        \"city\":\"Jangipur\",\n",
    "        \"state\":\"West Bengal\",\n",
    "        \"zip_code\":\"742213\"\n",
    "    },\n",
    "    employees=[\n",
    "        {\"name\":\"Suvo\", \"position\":\"ML Engineer\", \"email\":\"subratasubha2@gmail.com\"},\n",
    "        {\"name\":\"Shlok\", \"position\":\"ML Engineer\", \"email\":\"connect.shlokjain@gmail.com\"}\n",
    "    ],\n",
    "    number_of_seats=50,\n",
    "    delivery=True,\n",
    "    website=\"https://tastybites.com\"\n",
    ")\n",
    "\n",
    "print(restaurant)\n",
    "print(restaurant.model_dump())"
   ]
  },
  {
   "cell_type": "markdown",
   "id": "fbfdd8b1-6d75-429e-9923-0fbdd9c3999d",
   "metadata": {},
   "source": [
    "<h2 align=\"left\">Pydantic Field Validation</h2>\n",
    "\n",
    "- Pydantic allows defining custom models that inherit from the BaseModel class, and setting properties with type annotations and default values.\n",
    "- Pydantic provides the `@validator` decorator to define field validators, which are functions that take the field value as an argument and check or modify it according to some logic. Field validators can be run before or after Pydantic's internal validation, using the `pre` and `post` flags.\n",
    "- Pydantic also provides the `field_validator` function, which is a shortcut for creating a `@validator` with the `pre` flag set to `True`. This means that the field validator will run before Pydantic's internal validation.\n",
    "- In the example, the `Owner` model has two fields: `name` and `email`. The `name` field has a field validator that checks if the name contains a space, and raises a `ValueError` if not. The field validator also converts the name to title case. The `email` field has a built-in type `EmailStr`, which validates that the email is a valid email address.\n",
    "- The example also shows how to create an instance of the `Owner` model, and how to handle the possible `ValueError` that the field validator may raise. The example also shows how to use the `model_dump` method, which returns a dictionary representation of the model."
   ]
  },
  {
   "cell_type": "code",
   "execution_count": null,
   "id": "ca4d9f13-61df-49a9-9ae7-83c0b13102f0",
   "metadata": {},
   "outputs": [],
   "source": [
    "from pydantic import BaseModel, EmailStr, field_validator\n",
    "\n",
    "class Owner(BaseModel):\n",
    "    name:str\n",
    "    email:EmailStr\n",
    "\n",
    "    @field_validator('name')\n",
    "    @classmethod\n",
    "    def name_must_contain_space(cls, v:str) -> str: # v->'name'\n",
    "        if \" \" not in v:\n",
    "            raise ValueError(\"Owner name must contain a space\")\n",
    "        return v.title()\n",
    "try:\n",
    "    owner=Owner(name=\"Subrata Mondal\", email=\"subratasubha2@gmail.com\")\n",
    "    print(owner)\n",
    "    print(owner.model_dump())\n",
    "except ValueError as e:\n",
    "    print(e)"
   ]
  },
  {
   "cell_type": "markdown",
   "id": "2870e8b9-b964-44a8-8ab5-e341a4ddcb8e",
   "metadata": {},
   "source": [
    "<h2 align=\"left\">Pydantic Model Validation</h2>\n",
    "\n",
    "Model validators are functions that can be used to validate and modify the data of a pydantic model. They can be applied to the whole model or to specific fields. Model validators can be defined using the `@validator` decorator or the `Annotated` type. There are different types of model validators, such as:\n",
    "\n",
    "- **After validators**: They run after pydantic's internal parsing and validation. They are generally more type safe and easier to implement. They can be used to check additional constraints or perform calculations on the data.\n",
    "- **Before validators**: They run before pydantic's internal parsing and validation. They are more flexible than after validators, since they can modify the raw input, but they also have to deal with the raw input, which could be any arbitrary object. They can be used to preprocess the data or coerce it to the desired type.\n",
    "- **Plain validators**: They run instead of pydantic's internal parsing and validation. They terminate the validation process immediately, without calling any other validators or pydantic's logic. They can be used to implement custom validation logic that is not supported by pydantic's built-in types and validators.\n",
    "- **Wrap validators**: They run around pydantic's internal parsing and validation. They can run code before or after pydantic and other validators, or terminate the validation process with a successful value or an error. They are the most flexible of all, but also the most complex to implement. They can be used to handle special cases or implement advanced validation logic."
   ]
  },
  {
   "cell_type": "code",
   "execution_count": null,
   "id": "475c1499-e09e-4619-a6d8-5cc1fc793720",
   "metadata": {},
   "outputs": [],
   "source": [
    "from typing import Any \n",
    "from pydantic import BaseModel, EmailStr, ValidationError, model_validator\n",
    "\n",
    "class Owner(BaseModel):\n",
    "    name:str\n",
    "    email:EmailStr\n",
    "\n",
    "    @model_validator(mode=\"before\") # Before validators\n",
    "    @classmethod\n",
    "    def check_sensitive_info_omitted(cls, data:Any) -> Any:\n",
    "        if isinstance(data, dict):\n",
    "            if \"password\" in data:\n",
    "                raise ValueError(\"Password should not be included\")\n",
    "            if \"card_number\" in data:\n",
    "                raise ValueError(\"Card Number should not be included\")\n",
    "        return data\n",
    "    \n",
    "    @model_validator(mode=\"after\") # After validators\n",
    "    def check_name_contains_space(self) -> 'Owner':\n",
    "        if \" \" not in self.name:\n",
    "            raise ValueError(\"Owner name must contain a space\")\n",
    "        return self\n",
    "\n",
    "try:\n",
    "    owner=Owner(name=\"Subrata Mondal\", email=\"subratasubha2@gmail.com\")\n",
    "    print(owner)\n",
    "    print(owner.model_dump())\n",
    "\n",
    "except ValidationError as e:\n",
    "    print(e)"
   ]
  },
  {
   "cell_type": "markdown",
   "id": "b8475989-8d97-4d1b-af1f-7b1d86fbcb51",
   "metadata": {},
   "source": [
    "<h2 align=\"left\">Pydantic Field Validation</h2>\n",
    "\n",
    "Pydantic Field class is a class that provides a way to customize and add metadata to the fields of Pydantic models. You can use the Field class to define field parameters, such as default value, alias, description, example, etc. You can also use the Field class to perform custom validation and manipulation on the field values, using the @validator decorator or the Annotated type.\n",
    "\n",
    "Here are some examples of using the Pydantic Field class:\n",
    "\n",
    "- Example 1: Using the default parameter to define a default value for a field."
   ]
  },
  {
   "cell_type": "code",
   "execution_count": null,
   "id": "805df5ab-c6a4-4074-b243-80d490b78191",
   "metadata": {},
   "outputs": [],
   "source": [
    "from pydantic import BaseModel, Field\n",
    "\n",
    "class User(BaseModel):\n",
    "    name: str = Field(default=\"Subrata Mondal\")\n",
    "\n",
    "user = User()\n",
    "print(user)\n",
    "print(user.model_dump())"
   ]
  },
  {
   "cell_type": "markdown",
   "id": "e36a80eb-5b2a-4387-a027-901219242973",
   "metadata": {},
   "source": [
    "- Example 2: Using the `default_factory` parameter to define a callable that will generate a default value for a field."
   ]
  },
  {
   "cell_type": "code",
   "execution_count": null,
   "id": "85b1e6ed-ee1e-4c78-9edc-cd2e4440eb80",
   "metadata": {},
   "outputs": [],
   "source": [
    "from uuid import uuid4\n",
    "from pydantic import BaseModel, Field\n",
    "\n",
    "class User(BaseModel):\n",
    "    id: str = Field(default_factory=lambda: uuid4().hex)\n",
    "\n",
    "user = User()\n",
    "print(user)\n",
    "print(user.model_dump())"
   ]
  },
  {
   "cell_type": "markdown",
   "id": "3a84deb1-3ba5-4bea-980d-e04e386bcb48",
   "metadata": {},
   "source": [
    "- Example 3: Using the `alias` parameter to define an alternative name for a field."
   ]
  },
  {
   "cell_type": "code",
   "execution_count": null,
   "id": "1bb365d4-5eef-47dd-9501-32cd2966c2c4",
   "metadata": {},
   "outputs": [],
   "source": [
    "from pydantic import BaseModel, Field\n",
    "\n",
    "class User(BaseModel):\n",
    "    name: str = Field(..., alias=\"username\")\n",
    "\n",
    "user = User(username=\"Subrata Mondal\")\n",
    "print(user)\n",
    "print(user.model_dump())"
   ]
  },
  {
   "cell_type": "markdown",
   "id": "f4efba0b-598c-4492-87af-b2136f036abb",
   "metadata": {},
   "source": [
    "- Example 4: Using the `title` and `description` parameters to add human-readable metadata to a field."
   ]
  },
  {
   "cell_type": "code",
   "execution_count": null,
   "id": "ff9700c7-0a93-4858-a50f-7b3f67342dac",
   "metadata": {},
   "outputs": [],
   "source": [
    "from pydantic import BaseModel, Field\n",
    "\n",
    "class User(BaseModel):\n",
    "    name: str = Field(..., title=\"Name\", description=\"The user's name\")\n",
    "    age: int = Field(..., title=\"Age\", description=\"The user's age in years\")\n",
    "\n",
    "user = User(name=\"Alice\", age=25)\n",
    "print(user)\n",
    "print(user.model_json_schema())"
   ]
  },
  {
   "cell_type": "markdown",
   "id": "70c8241e-fe20-4da2-b56d-ae7ac418ef4f",
   "metadata": {},
   "source": [
    "- Example 5: Using the `gt, ge, lt, le`, and `multiple_of` parameters to define numerical constraints on a field."
   ]
  },
  {
   "cell_type": "code",
   "execution_count": null,
   "id": "61e80d60-f604-4a31-958b-1d1135be86a4",
   "metadata": {},
   "outputs": [],
   "source": [
    "from pydantic import BaseModel, Field\n",
    "\n",
    "class Foo(BaseModel):\n",
    "    positive: int = Field(gt=0)\n",
    "    non_negative: int = Field(ge=0)\n",
    "    negative: int = Field(lt=0)\n",
    "    non_positive: int = Field(le=0)\n",
    "    even: int = Field(multiple_of=2)\n",
    "\n",
    "foo = Foo(positive=1, non_negative=0, negative=-1, non_positive=-2, even=4)\n",
    "print(foo)"
   ]
  },
  {
   "cell_type": "markdown",
   "id": "dc43ab37-25f2-48b5-bf36-06035e1eb2e0",
   "metadata": {},
   "source": [
    "<h2 align=\"left\">Pydantic Computed Field</h2>\n",
    "\n",
    "Pydantic `computed_field` is a feature that allows you to include property and cached_property methods in the serialization and schema of your Pydantic models. This is useful for fields that are computed from other fields, or for fields that are expensive to compute and should be cached. You can use the computed_field decorator to mark a method as a computed field, and optionally provide some parameters, such as alias, repr, etc."
   ]
  },
  {
   "cell_type": "code",
   "execution_count": null,
   "id": "a6d73abf-38f0-42f7-8945-30290d3b24cf",
   "metadata": {},
   "outputs": [],
   "source": [
    "from pydantic import BaseModel, computed_field\n",
    "\n",
    "class Rectangle(BaseModel):\n",
    "    width: int\n",
    "    length: int\n",
    "\n",
    "    @computed_field\n",
    "    @property\n",
    "    def area(self) -> int:\n",
    "        return self.width * self.length\n",
    "\n",
    "rectangle=Rectangle(width=3, length=2)\n",
    "print(rectangle)\n",
    "print(rectangle.model_dump())"
   ]
  },
  {
   "cell_type": "markdown",
   "id": "da0ef134-c024-4186-b5ea-23d45a702b90",
   "metadata": {},
   "source": [
    "In this example, the Rectangle model has a computed field called area, which is calculated from the width and length fields. The computed field is decorated with both `@computed_field` and `@property`, which means that it is a read-only property that can be accessed as an attribute of the model instance. The computed field is also included in the model_dump method, which returns a dictionary representation of the model."
   ]
  },
  {
   "cell_type": "markdown",
   "id": "9773da58-2a4f-4925-a014-842e490e5df8",
   "metadata": {},
   "source": [
    "<h2 align=\"left\">Pydantic DataClasses</h2>\n",
    "\n",
    "Pydantic dataclasses are a feature of Pydantic that allows you to use the standard Python dataclasses with Pydantic validation. **Dataclasses** are a way to create classes that store data attributes, without writing boilerplate code for special methods like `__init__` or `__repr__`. Pydantic validation ensures that the data attributes are of the correct type and follow the specified constraints.\n",
    "\n",
    "To use Pydantic dataclasses, you need to import the dataclass decorator from Pydantic, and use it to decorate your class definition. You can also use the `Field` function or the `Annotated` type to customize the fields of your dataclass, such as adding `default values, aliases, descriptions, examples, validators`, etc. You can also use the `TypeAdapter` class to convert your dataclass to a Pydantic model, and access features like json schema and validation.\n",
    "\n",
    "<h3 align=\"left\">Pydantic DataClasses vs Python DataClasses</h3>\n",
    "\n",
    "- Pydantic dataclasses perform **automatic data validation** and **parsing**, using Python type hints and Pydantic's built-in types and validators. Python dataclasses do not inherently perform validation, and require manual validation or third-party libraries.\n",
    "\n",
    "- Pydantic dataclasses can use the Field function or the Annotated type to customize the fields of the dataclass, such as adding default values, aliases, descriptions, examples, validators, etc. Python dataclasses can only use the field function to define basic parameters, such as default value, default factory, init, repr, etc.\n",
    "\n",
    "- Pydantic dataclasses can use the **TypeAdapter** class to **convert the dataclass to a Pydantic model**, and access features like json schema and validation. Python dataclasses do not have such a feature."
   ]
  },
  {
   "cell_type": "code",
   "execution_count": null,
   "id": "4a92b854-47ac-48e6-afb1-44415dd2303b",
   "metadata": {},
   "outputs": [],
   "source": [
    "from pydantic import dataclass, Field, TypeAdapter\n",
    "from typing import List, Optional\n",
    "\n",
    "@dataclass\n",
    "class User:\n",
    "    id: int\n",
    "    name: str = Field(default=\"Subrata Mondal\")\n",
    "    friends: List[int] = Field(default_factory=lambda: [0])\n",
    "    age: Optional[int] = Field(None, ge=0, le=150)\n",
    "\n",
    "user = User(id=42)\n",
    "print(user)"
   ]
  },
  {
   "cell_type": "code",
   "execution_count": null,
   "id": "3f6acc7d-7a0a-450f-b4e4-a54ad1c7c945",
   "metadata": {},
   "outputs": [],
   "source": [
    "print(TypeAdapter(User).json_schema())"
   ]
  },
  {
   "cell_type": "markdown",
   "id": "06b85927-5ac9-4342-b279-179e0b172db5",
   "metadata": {},
   "source": [
    "<h2 align=\"left\">Pydantic TypeAdapters</h2>\n",
    "\n",
    "TypeAdapters are a feature of Pydantic that allow you to perform validation and serialization based on a Python type. A TypeAdapter instance exposes some of the functionality from BaseModel instance methods for types that do not have such methods (such as dataclasses, primitive types, and more).\n",
    "\n",
    "For example, you can use a TypeAdapter to validate a list of Pydantic models, or to dump it to JSON, without creating a separate BaseModel for the list. You can also use a TypeAdapter to customize the fields of your type, such as adding default values, aliases, descriptions, examples, validators, etc. You can also use a TypeAdapter to convert your type to a Pydantic model, and access features like json schema and validation."
   ]
  },
  {
   "cell_type": "code",
   "execution_count": null,
   "id": "405db853-9682-4c30-abcd-4a3923cb9931",
   "metadata": {},
   "outputs": [],
   "source": [
    "from typing import List\n",
    "from pydantic import BaseModel, TypeAdapter\n",
    "\n",
    "class Item(BaseModel):\n",
    "    id: int\n",
    "    name: str\n",
    "\n",
    "item_data = [{'id': 1, 'name': 'My Item'}]\n",
    "\n",
    "# Create a TypeAdapter for a list of items\n",
    "ItemListValidator = TypeAdapter(List[Item])\n",
    "\n",
    "# Validate the item data against the TypeAdapter\n",
    "items = ItemListValidator.validate_python(item_data)\n",
    "print(items)\n",
    "\n",
    "# Dump the items to JSON\n",
    "print(ItemListValidator.dump_json(items))\n",
    "\n",
    "# Get the JSON schema for the TypeAdapter\n",
    "print(ItemListValidator.json_schema())"
   ]
  },
  {
   "cell_type": "code",
   "execution_count": null,
   "id": "e5e0acfa-ea7b-47f4-a449-d836f27b976f",
   "metadata": {},
   "outputs": [],
   "source": []
  }
 ],
 "metadata": {
  "kernelspec": {
   "display_name": "Python 3 (ipykernel)",
   "language": "python",
   "name": "python3"
  },
  "language_info": {
   "codemirror_mode": {
    "name": "ipython",
    "version": 3
   },
   "file_extension": ".py",
   "mimetype": "text/x-python",
   "name": "python",
   "nbconvert_exporter": "python",
   "pygments_lexer": "ipython3",
   "version": "3.11.0"
  },
  "widgets": {
   "application/vnd.jupyter.widget-state+json": {
    "state": {},
    "version_major": 2,
    "version_minor": 0
   }
  }
 },
 "nbformat": 4,
 "nbformat_minor": 5
}
