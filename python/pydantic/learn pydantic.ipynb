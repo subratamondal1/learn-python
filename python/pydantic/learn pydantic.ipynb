{
 "cells": [
  {
   "cell_type": "markdown",
   "id": "f74e136b-bc3b-48c0-8e36-a986df2c4f11",
   "metadata": {},
   "source": [
    "<h1 align=\"center\">Pydantic</h1>\n",
    "<center>Pydantic is the most widely used data validation library for Python</center>\n",
    "\n",
    "---\n",
    "\n",
    "- Pydantic is a library that allows you to validate and parse data using Python type annotations.\n",
    "- Pydantic can automatically convert data types during validation, according to the [conversion table](https://docs.pydantic.dev/latest/concepts/conversion_table/).\n",
    "- Pydantic can also define data models with validation rules and default values, which can ensure the reliability and integrity of the data used in your API.\n",
    "- Pydantic can automatically parse data from various formats, such as JSON or form data, into Python objects, based on the defined models.\n",
    "- Pydantic has a `Config.smart_union` option that can prevent type conversion unless the input data is a union of types, such as `Union[int, str]`. This option can be used to avoid unintended conversions and raise a `TypeError` instead."
   ]
  },
  {
   "cell_type": "markdown",
   "id": "27118a0b-1cad-417a-9f84-f2c8b4685d35",
   "metadata": {},
   "source": [
    "<h2 align=\"left\">Basics</h2>"
   ]
  },
  {
   "cell_type": "code",
   "execution_count": 3,
   "id": "24ec9d42-7ee0-468f-b8b5-237bb4b07017",
   "metadata": {},
   "outputs": [
    {
     "name": "stdout",
     "output_type": "stream",
     "text": [
      "2.5.3\n"
     ]
    }
   ],
   "source": [
    "import pydantic\n",
    "print(pydantic.__version__)"
   ]
  },
  {
   "cell_type": "code",
   "execution_count": 2,
   "id": "1b785dae-98d1-4caf-a894-c5c04d147519",
   "metadata": {},
   "outputs": [],
   "source": [
    "from pydantic import BaseModel"
   ]
  },
  {
   "cell_type": "markdown",
   "id": "7b164e08-b2a9-44ea-af9c-6bde13c881e4",
   "metadata": {},
   "source": [
    "* Notice that `model_fields_set` only prints those arguments or fields that are set by us, and not the default ones."
   ]
  },
  {
   "cell_type": "code",
   "execution_count": 25,
   "id": "17e38092-251d-43f2-b564-5e4075c47d87",
   "metadata": {},
   "outputs": [
    {
     "name": "stdout",
     "output_type": "stream",
     "text": [
      "1 Subrata (<class 'int'>, <class 'str'>)\n",
      "{'id'}\n"
     ]
    }
   ],
   "source": [
    "class User(BaseModel):\n",
    "    id:int\n",
    "    name:str=\"Subrata\"\n",
    "\n",
    "user=User(id=1)\n",
    "print(user.id, user.name, (type(user.id), type(user.name)))\n",
    "print(user.model_fields_set)"
   ]
  },
  {
   "cell_type": "code",
   "execution_count": 26,
   "id": "9bb9b989-decf-4508-8293-095ff0bcdcb1",
   "metadata": {},
   "outputs": [
    {
     "name": "stdout",
     "output_type": "stream",
     "text": [
      "1 Suvo (<class 'int'>, <class 'str'>)\n",
      "{'id', 'name'}\n"
     ]
    }
   ],
   "source": [
    "user=User(id=1, name=\"Suvo\")\n",
    "print(user.id, user.name, (type(user.id), type(user.name)))\n",
    "print(user.model_fields_set)"
   ]
  },
  {
   "cell_type": "code",
   "execution_count": 27,
   "id": "f4c12fce-57b7-4fa2-b58b-1026b27876ac",
   "metadata": {},
   "outputs": [
    {
     "name": "stdout",
     "output_type": "stream",
     "text": [
      "123 Suvo (<class 'int'>, <class 'str'>)\n",
      "{'id', 'name'}\n"
     ]
    }
   ],
   "source": [
    "user=User(id=\"123\", name=\"Suvo\")\n",
    "print(user.id, user.name, (type(user.id), type(user.name)))\n",
    "print(user.model_fields_set)"
   ]
  },
  {
   "cell_type": "markdown",
   "id": "74d0d985-028c-46b4-afb7-7c0426a28d2b",
   "metadata": {},
   "source": [
    "- `user.model_dump` returns a dictionary representation of the model, with sub-models recursively converted to dictionaries. It can take parameters such as `include`, `exclude`, `by_alias`, `exclude_unset`, `exclude_defaults`, and `exclude_none` to customize the output. It can also handle fields with `Json` type by parsing them into Python objects or keeping them as strings, depending on the `round_trip` parameter.\n",
    "- `user.model_dump_json` returns a JSON string representation of the model, using Pydantic's `to_json` method. It can take the same parameters as `user.model_dump`, as well as `indent`, `sort_keys`, and `ensure_ascii` to format the JSON output.\n",
    "- `user.model_json_schema` returns a dictionary of the JSON schema of the model, compliant with the JSON Schema Draft 2020-12 and OpenAPI extensions. It can take parameters such as `by_alias`, `ref_template`, `schema_generator`, and `mode` to customize the schema generation. It can also handle fields with custom titles, descriptions, default values, and constraints."
   ]
  },
  {
   "cell_type": "code",
   "execution_count": 23,
   "id": "fb00a498-d2f8-472b-8c40-1f10499124e7",
   "metadata": {},
   "outputs": [
    {
     "name": "stdout",
     "output_type": "stream",
     "text": [
      "{'id': 123, 'name': 'Suvo'}\n",
      "{\"id\":123,\"name\":\"Suvo\"}\n",
      "{'properties': {'id': {'title': 'Id', 'type': 'integer'}, 'name': {'default': 'Subrata', 'title': 'Name', 'type': 'string'}}, 'required': ['id'], 'title': 'User', 'type': 'object'}\n"
     ]
    }
   ],
   "source": [
    "print(user.model_dump()) # A dictionary representation of the model.\n",
    "print(user.model_dump_json()) # A JSON string representation of the model.\n",
    "print(user.model_json_schema()) # The JSON schema for the given model class."
   ]
  },
  {
   "cell_type": "markdown",
   "id": "29285065-b7ba-484d-935c-c9991c5aadbd",
   "metadata": {},
   "source": [
    "<h2 align=\"left\">Nested Models</h2>"
   ]
  },
  {
   "cell_type": "code",
   "execution_count": null,
   "id": "22fae20f-991c-4b93-8039-4a58a1fc8a71",
   "metadata": {},
   "outputs": [],
   "source": []
  }
 ],
 "metadata": {
  "kernelspec": {
   "display_name": "Python 3 (ipykernel)",
   "language": "python",
   "name": "python3"
  },
  "language_info": {
   "codemirror_mode": {
    "name": "ipython",
    "version": 3
   },
   "file_extension": ".py",
   "mimetype": "text/x-python",
   "name": "python",
   "nbconvert_exporter": "python",
   "pygments_lexer": "ipython3",
   "version": "3.11.0"
  },
  "widgets": {
   "application/vnd.jupyter.widget-state+json": {
    "state": {},
    "version_major": 2,
    "version_minor": 0
   }
  }
 },
 "nbformat": 4,
 "nbformat_minor": 5
}
