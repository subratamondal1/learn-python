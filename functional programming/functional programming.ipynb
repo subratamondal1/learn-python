{
 "cells": [
  {
   "cell_type": "markdown",
   "id": "1696e55a-bd00-4088-aaf4-44bbca0cdf94",
   "metadata": {},
   "source": [
    "# functional programming"
   ]
  },
  {
   "cell_type": "markdown",
   "id": "200a81ea-10e8-4140-89df-42d592e15f37",
   "metadata": {},
   "source": [
    "## what is functional programming?\n",
    "* programming with functions !!!\n",
    "* fewer classes, control flow primitives and mutation."
   ]
  },
  {
   "cell_type": "markdown",
   "id": "6615a2fe-414a-45ae-83ee-dfff491a488e",
   "metadata": {},
   "source": [
    "## what is a side effect?\n",
    "* non mathematical functions\n",
    "* effect on the state of the world\n",
    "* observable from the outside"
   ]
  },
  {
   "cell_type": "markdown",
   "id": "1f72291e-8e4b-4451-acf9-9643cfc9e9fb",
   "metadata": {},
   "source": [
    "## necessary side effects\n",
    "* read input interactively\n",
    "* display things to the screen\n",
    "* communicate over a network"
   ]
  },
  {
   "cell_type": "markdown",
   "id": "42042c88-7122-45d8-8427-0ec34641d3a4",
   "metadata": {},
   "source": [
    "## why functional programming?\n",
    "* expressiveness\n",
    "    * replace imperative constructs like loops, classes, variable assignment with function\n",
    "    * produce higher level abstractions\n",
    "    * leads to simpler code using fewer concepts\n",
    "* reasoning\n",
    "    * keep relative things in your head\n",
    "    * keep irrelevant things out of your head\n",
    "* testing\n",
    "* performance"
   ]
  },
  {
   "cell_type": "code",
   "execution_count": null,
   "id": "d015530a-31d7-4585-932d-19ccd03eb0e2",
   "metadata": {},
   "outputs": [],
   "source": []
  }
 ],
 "metadata": {
  "kernelspec": {
   "display_name": "Python 3 (ipykernel)",
   "language": "python",
   "name": "python3"
  },
  "language_info": {
   "codemirror_mode": {
    "name": "ipython",
    "version": 3
   },
   "file_extension": ".py",
   "mimetype": "text/x-python",
   "name": "python",
   "nbconvert_exporter": "python",
   "pygments_lexer": "ipython3",
   "version": "3.11.6"
  }
 },
 "nbformat": 4,
 "nbformat_minor": 5
}
