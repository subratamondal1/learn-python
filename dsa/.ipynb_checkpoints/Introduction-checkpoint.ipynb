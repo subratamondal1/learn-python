{
 "cells": [
  {
   "cell_type": "markdown",
   "id": "36d4964c-d1e2-4b8b-9052-4fa78a0efa6e",
   "metadata": {},
   "source": [
    "# Introduction"
   ]
  },
  {
   "cell_type": "markdown",
   "id": "f764b0e1-552c-4f57-93d4-86d6861ad0be",
   "metadata": {},
   "source": [
    "### What is a Program?\n",
    "A **program** is a set of instructions that perform some operations on data.\n",
    "\n",
    "### What is a Data Structure?\n",
    "When a **program** is dealing with data, then how the program will store and organize the data in the main memory is defined by the data structure.\n"
   ]
  },
  {
   "cell_type": "markdown",
   "id": "ae1fef63-52db-4b2c-a0f3-5c15c2703311",
   "metadata": {},
   "source": [
    "### Types of data structure\n",
    "\n",
    "#### 1. Physical data structure\n",
    "Physical data structures define `how to store and organize the data in the main memory`, also known as **implementation data structures** because they define how to implement the data staructure.\n",
    "\n",
    "* Array\n",
    "* Linked List\n",
    "\n",
    "#### 2. Logical data structure\n",
    "Logical data structures define `what operations to perform on the data` based on some rules. Logical data structures are also known as **abstract data structures** because they abstract away the details of the physical implementation and focus on the functionality.\n",
    "\n",
    "* Stack\n",
    "* Queue\n",
    "* Tree\n",
    "* Graph\n",
    "* Hashing\n",
    "\n",
    "> * **Physical data structures** focuses on `how to store` and organize the data.\n",
    "> * **Logical data structures** focuses on `what operations to perform` on the data.\n",
    "> * Logical data structures are implemented using the Physical data structures."
   ]
  },
  {
   "cell_type": "markdown",
   "id": "66d228ff-63b1-4c04-89de-da01f953dad2",
   "metadata": {},
   "source": [
    "# Memory"
   ]
  },
  {
   "cell_type": "markdown",
   "id": "73e26b90-de1b-4814-b8a7-d2c7cf7b1456",
   "metadata": {},
   "source": [
    "Memory is an essential component of a computer system that stores data and instructions for processing. Memory is a collection of addressable units called **bytes**. One byte consists of eight **bits**, which are the smallest units of information that can be stored in memory. Each byte has a unique address that identifies its location in memory.\n",
    "\n",
    "<img src=\"https://th.bing.com/th/id/R.f881f0e690e77d9c9986b1c276549da9?rik=m%2fuFDxof%2bziOnQ&riu=http%3a%2f%2f2.bp.blogspot.com%2f-6I8Vm9LIbeo%2fTndZ0QwD_RI%2fAAAAAAAAAr0%2f2QUL0UjrP5w%2fs1600%2fBits%2band%2bbytes%2bin%2bmemory.jpg&ehk=UOYa4fjmen7qzdOz0D%2fp%2fP56gHOJ6bX2%2bEPBE7E2wfA%3d&risl=&pid=ImgRaw&r=0&sres=1&sresct=1\">\n",
    "\n",
    "> * Remember: **Bytes** measure **size** (MB) and **Bits** measure **speed** (MBps).\n",
    "\n",
    "Whenever we execute a Python file, the file is first sent to the code segment of main memory. The code segment is one of the **Memory Segments** (divisions of memory) that are used to store different types of data and code. \n",
    "\n",
    "* Memory segments help us organize and manage memory efficiently and effectively.\n",
    "\n",
    "There are five common memory segments that are used in most programming languages, including Python. They are:\n",
    "\n",
    "- **Code segment**: This segment contains the `executable code` of the program. It is usually read-only and sharable among multiple processes.\n",
    "- **Data segment**: This segment contains the `initialized global` and `static variables` of the program. It can be further divided into read-only and read-write areas.\n",
    "- **BSS(Block Started by Symbol) segment**: This segment contains the `uninitialized global` and `static variables` of the program. It is initialized to zero by the operating system before the program starts.\n",
    "- **Heap segment**: This segment contains the `dynamically allocated memory` of the program. It grows upward (from low to high memory address) from the end of the BSS segment.\n",
    "- **Stack segment**: This segment contains the `local variables` and `function call` information of the program. It grows downward (from high to low memory address) from the top of the memory.\n",
    "\n",
    "Here is a diagram that shows the typical memory layout of a Python program:\n",
    "\n",
    "```\n",
    "+------------------+\n",
    "|      Stack       |\n",
    "|        |         |\n",
    "|        V         |\n",
    "|                  |\n",
    "|                  |\n",
    "|                  |\n",
    "|                  |\n",
    "|        ^         |\n",
    "|        |         |\n",
    "|       Heap       |\n",
    "+------------------+\n",
    "|       BSS        |\n",
    "+------------------+\n",
    "|      Data        |\n",
    "+------------------+\n",
    "|      Code        |\n",
    "+------------------+\n",
    "```\n",
    "\n",
    "When a function is called, a new data structure is created on the stack segment called **stack frame** or **activation record** to store information about the function call. Stack Frame typically contains `Return address`, `Parameters`, `Local variables`, `Saved registers`, `Frame pointer` and `Stack pointer`.\n",
    "\n",
    "The stack frame or activation record is `created` when a function is called and is `destroyed` when the function returns. The size and layout of the stack frame may vary depending on the compiler, operating system, and instruction set.\n",
    "\n",
    "Here is a diagram that shows an example of a stack frame for a function call in Python:\n",
    "\n",
    "```\n",
    "+------------------+\n",
    "|      Stack       |\n",
    "|        |         |\n",
    "|        V         |\n",
    "|                  |\n",
    "|                  |\n",
    "|                  |\n",
    "|                  |\n",
    "|        ^         |\n",
    "|        |         |\n",
    "|       Heap       |\n",
    "+------------------+\n",
    "|       BSS        |\n",
    "+------------------+\n",
    "|      Data        |\n",
    "+------------------+\n",
    "|      Code        |\n",
    "+------------------+\n",
    "|                  |\n",
    "|                  |\n",
    "|                  |\n",
    "|                  |\n",
    "|                  |\n",
    "|                  |\n",
    "|                  |\n",
    "|                  |\n",
    "|                  |\n",
    "|                  |\n",
    "|                  |\n",
    "|                  |\n",
    "|                  |\n",
    "|                  |\n",
    "|                  |\n",
    "|                  |\n",
    "+------------------+\n",
    "| Stack pointer    |\n",
    "+------------------+\n",
    "| Frame pointer    |\n",
    "+------------------+\n",
    "| Saved registers  |\n",
    "+------------------+\n",
    "| Local variables  |\n",
    "+------------------+\n",
    "| Parameters       |\n",
    "+------------------+\n",
    "| Return address   |\n",
    "+------------------+\n",
    "```"
   ]
  },
  {
   "cell_type": "markdown",
   "id": "71935a7e-7b78-45e7-babf-70b4f2da4619",
   "metadata": {},
   "source": [
    "### Static and Dynamic Memory Allocation"
   ]
  },
  {
   "cell_type": "markdown",
   "id": "d1f34a18-1679-4bf5-beee-78f9cddeb0a3",
   "metadata": {},
   "source": [
    "They are two ways of allocating memory for data and code in a program. They are defined by time, allocation and de-allocation of memory.\n",
    "\n",
    "<img src=\"https://th.bing.com/th/id/OIP.yzyB5gv11VWrwqgxM4CxoAAAAA?rs=1&pid=ImgDetMain\">\n",
    "\n",
    "* **Static memory allocation (stack memory)** means the memory is allocated at **compile time** (before the program execution). The size and location of the memory are fixed and cannot be changed during the program execution. The `compiler automatically allocates and deallocates the memory` for the data and code. Static memory allocation is suitable when the memory requirements are known in advance and fixed throughout the program execution. Static memory allocation is usually done for `global` and `static variables`, and for the `code segment`.\n",
    "    * For example, in C, if you declare a global variable `int x = 10;`, the compiler will allocate a fixed amount of memory (usually 4 bytes) for the variable `x` and assign it the value 10. This memory will be reserved for the variable `x` until the end of the program, and cannot be changed or reused by other variables.\n",
    "\n",
    "\n",
    "* **Dynamic memory allocation (heap memory)** means the memory is allocated at **run time** (during the program execution). The size and location of the memory are variable and can be changed during the program execution. The `programmer manually allocates and deallocates the memory` for the data and code using some functions or operators. Dynamic memory allocation is useful when the memory requirements are variable or need to be determined at run time. Dynamic memory allocation is usually done for `local variables`, and for the `heap segment`.\n",
    "    * **heap memory** refers to unorganized memory and used as resource to to allocate memory when required and de-allocate memory when not required, also they can't be accessed directly, instead accessed by pointers via stack.\n",
    "    * For example, in C, if you want to create an array of variable size, you can use the `malloc` function to allocate memory for the array on the heap. The `malloc` function returns a pointer to the allocated memory, which you can use to access and modify the array elements. You can also use the `free` function to deallocate the memory when you no longer need the array, and free up the memory for other uses."
   ]
  },
  {
   "cell_type": "markdown",
   "id": "0bc07320-f8cb-4666-b66f-85f9dc3b7324",
   "metadata": {},
   "source": [
    "### Static and Dynamic Memory Allocation in Python"
   ]
  },
  {
   "cell_type": "markdown",
   "id": "2cb86b4b-09cc-4fd4-8a46-3122d8c70d6e",
   "metadata": {},
   "source": [
    "In Python, memory allocation is handled by the interpreter via **garbage collection** and **reference counting** to manage the memory on the heap. However, you can still use some techniques to achieve static and dynamic memory allocation in Python.\n",
    "\n",
    "* **Static memory allocation** in Python can be achieved by using **immutable objects**, such as `strings`, `tuples`, and `frozensets`. Immutable objects are objects whose values cannot be changed once they are created. Python optimizes memory usage by reusing immutable objects as much as possible. For example, if you create two strings with the same value, they will both refer to the same object in memory, and use less memory.\n",
    "    * For example, if you write `x = \"Hello\"` and `y = \"Hello\"`, both `x` and `y` will point to the same string object in memory, which has a fixed size and location. This object will be allocated at compile time, and cannot be modified or deallocated at run time.\n",
    "\n",
    "* **Dynamic memory allocation** in Python can be achieved by using `mutable objects`, such as `lists`, `dictionaries`, and `sets`. Mutable objects are objects whose values can be changed after they are created. Python allocates memory for mutable objects on the heap, and allows the programmer to modify and delete them at run time. For example, if you create a list and append or remove elements from it, the size and location of the list object in memory will change accordingly.\n",
    "    * For example, in Python, if you write `x = [1, 2, 3]` and `y = x`, both `x` and `y` will point to the same list object in memory, which has a variable size and location. This object will be allocated at run time, and can be modified or deallocated at run time. If you write `x.append(4)`, the list object will grow in size and may change its location in memory. If you write `del x`, the list object will be deallocated from memory, and `y` will point to a non-existent object.\n",
    " \n",
    "* A **memory leak** is a situation where some memory that is no longer needed by the program is `not freed` or `reclaimed` by the system. This can cause the program to use more and more memory over time, and eventually run out of memory or slow down the system."
   ]
  },
  {
   "cell_type": "code",
   "execution_count": null,
   "id": "40354201-0b73-45ba-b351-a6162f64f4ed",
   "metadata": {},
   "outputs": [],
   "source": []
  }
 ],
 "metadata": {
  "kernelspec": {
   "display_name": "Python 3 (ipykernel)",
   "language": "python",
   "name": "python3"
  },
  "language_info": {
   "codemirror_mode": {
    "name": "ipython",
    "version": 3
   },
   "file_extension": ".py",
   "mimetype": "text/x-python",
   "name": "python",
   "nbconvert_exporter": "python",
   "pygments_lexer": "ipython3",
   "version": "3.11.6"
  },
  "widgets": {
   "application/vnd.jupyter.widget-state+json": {
    "state": {},
    "version_major": 2,
    "version_minor": 0
   }
  }
 },
 "nbformat": 4,
 "nbformat_minor": 5
}
