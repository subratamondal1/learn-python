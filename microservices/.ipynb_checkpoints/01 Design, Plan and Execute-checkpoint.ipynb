{
 "cells": [
  {
   "cell_type": "markdown",
   "id": "b0589b71-a592-47d7-beab-8772f82d7f34",
   "metadata": {},
   "source": [
    "# The traditional monolith approach and its problems"
   ]
  },
  {
   "cell_type": "markdown",
   "id": "7fac0ea1-88df-468d-8e3f-3fbb5330d66a",
   "metadata": {},
   "source": [
    "* **Monolith** a single element containing everything. This is how most of the projects start."
   ]
  },
  {
   "cell_type": "code",
   "execution_count": null,
   "id": "8829b469-2200-48f5-860d-76f80eb7f6ec",
   "metadata": {},
   "outputs": [],
   "source": []
  }
 ],
 "metadata": {
  "kernelspec": {
   "display_name": "Python 3 (ipykernel)",
   "language": "python",
   "name": "python3"
  },
  "language_info": {
   "codemirror_mode": {
    "name": "ipython",
    "version": 3
   },
   "file_extension": ".py",
   "mimetype": "text/x-python",
   "name": "python",
   "nbconvert_exporter": "python",
   "pygments_lexer": "ipython3",
   "version": "3.11.7"
  },
  "widgets": {
   "application/vnd.jupyter.widget-state+json": {
    "state": {},
    "version_major": 2,
    "version_minor": 0
   }
  }
 },
 "nbformat": 4,
 "nbformat_minor": 5
}
