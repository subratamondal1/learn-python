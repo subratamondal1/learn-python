{
 "cells": [
  {
   "cell_type": "markdown",
   "id": "a3012649-c820-42d3-9868-11b8bb48145f",
   "metadata": {},
   "source": [
    "# Classes"
   ]
  },
  {
   "cell_type": "markdown",
   "id": "3d271f83-ad7f-43d5-b006-fc73ea6e30cc",
   "metadata": {
    "jp-MarkdownHeadingCollapsed": true
   },
   "source": [
    "## What is an Object?"
   ]
  },
  {
   "cell_type": "markdown",
   "id": "72d506ad-4776-4e70-8869-24153ccfd1bd",
   "metadata": {},
   "source": [
    "An **Object** is a **Container** that:\n",
    "\n",
    "- contains **data** also known as **state** or **attribute**.\n",
    "- contains **functionality** also known as **behavior** or **methods**."
   ]
  },
  {
   "cell_type": "markdown",
   "id": "5401a391-00b3-400a-bbb2-26fcca8d8191",
   "metadata": {
    "jp-MarkdownHeadingCollapsed": true
   },
   "source": [
    "## What is a Class?"
   ]
  },
  {
   "cell_type": "markdown",
   "id": "9b4d10c1-db62-407b-a6fa-78e2c8893050",
   "metadata": {},
   "source": [
    "A **Class** is like a **Template** used to create Objects.\n",
    "\n",
    "- A **Class** is also called **Type**.\n",
    "- Objects created from that class are called **Instances** of that **Class** or **Type**.\n",
    "- Classes are **themselves objects** and therefore, have their own:\n",
    "    - **state:** e.g class name or type name.\n",
    "    - **behavior:** e.g how to create an instance of the class.\n",
    " \n",
    "> **`Que:`** If a Class is an Object and Object is created from a Class, **how a Class is created?**</br>\n",
    "> **`Ans:`** A Class is created from the **type metaclass**</br>\n",
    "> **`Note:`** Since, a Class is an Object itself, so it's type is **type** similarly, when an object is created from a Class, it's type is **Class**.</br>\n"
   ]
  },
  {
   "cell_type": "code",
   "execution_count": 8,
   "id": "f2c87173-b47c-4bfe-a2e8-327d27d24b89",
   "metadata": {},
   "outputs": [
    {
     "name": "stdout",
     "output_type": "stream",
     "text": [
      "Since, a Class 'MyClass' is an Object itself, so it's type is type.\n",
      "Type of 'MyClass': <class 'type'>\n",
      "\n",
      "Since, an object 'my_object' is created from a Class 'MyClass', it's type is 'MyClass'.\n",
      "Type of 'my_object': <class '__main__.MyClass'>\n"
     ]
    }
   ],
   "source": [
    "class MyClass:\n",
    "    pass\n",
    "\n",
    "my_object = MyClass()\n",
    "\n",
    "print(\"Since, a Class 'MyClass' is an Object itself, so it's type is type.\")\n",
    "print(\"Type of 'MyClass':\", type(MyClass))\n",
    "print()\n",
    "print(\"Since, an object 'my_object' is created from a Class 'MyClass', it's type is 'MyClass'.\")\n",
    "print(\"Type of 'my_object':\", type(my_object))"
   ]
  },
  {
   "cell_type": "markdown",
   "id": "93580696-1487-44d6-bff1-3969f73e2058",
   "metadata": {},
   "source": [
    "A Class is an Object itself, therefore, it has **builtin state** and **behavior**."
   ]
  },
  {
   "cell_type": "code",
   "execution_count": 14,
   "id": "15292b45-67f7-4690-b4e8-a4a43fa81017",
   "metadata": {},
   "outputs": [
    {
     "data": {
      "text/plain": [
       "'MyClass'"
      ]
     },
     "execution_count": 14,
     "metadata": {},
     "output_type": "execute_result"
    }
   ],
   "source": [
    "# class name\n",
    "MyClass.__name__"
   ]
  },
  {
   "cell_type": "code",
   "execution_count": 15,
   "id": "81d5845f-490b-4193-9546-0ad01f41f7c6",
   "metadata": {},
   "outputs": [
    {
     "data": {
      "text/plain": [
       "type"
      ]
     },
     "execution_count": 15,
     "metadata": {},
     "output_type": "execute_result"
    }
   ],
   "source": [
    "# class of MyClass as Class is an Object itself\n",
    "MyClass.__class__"
   ]
  },
  {
   "cell_type": "code",
   "execution_count": 16,
   "id": "2351f2cf-f0a6-4c8c-985a-b40153f83180",
   "metadata": {},
   "outputs": [
    {
     "data": {
      "text/plain": [
       "<__main__.MyClass at 0x108be5cd0>"
      ]
     },
     "execution_count": 16,
     "metadata": {},
     "output_type": "execute_result"
    }
   ],
   "source": [
    "# call the instantiate method to create an instance\n",
    "MyClass()"
   ]
  },
  {
   "cell_type": "code",
   "execution_count": 22,
   "id": "3b0b035c-f66b-43f2-954e-72c3e3a90aaf",
   "metadata": {},
   "outputs": [
    {
     "data": {
      "text/plain": [
       "True"
      ]
     },
     "execution_count": 22,
     "metadata": {},
     "output_type": "execute_result"
    }
   ],
   "source": [
    "# check is Class of the object\n",
    "isinstance(MyClass, type)"
   ]
  },
  {
   "cell_type": "code",
   "execution_count": 23,
   "id": "d357273c-bf69-4cba-b376-4e6bdeba62ae",
   "metadata": {},
   "outputs": [
    {
     "name": "stdout",
     "output_type": "stream",
     "text": [
      "Help on class MyClass in module __main__:\n",
      "\n",
      "class MyClass(builtins.object)\n",
      " |  Data descriptors defined here:\n",
      " |  \n",
      " |  __dict__\n",
      " |      dictionary for instance variables\n",
      " |  \n",
      " |  __weakref__\n",
      " |      list of weak references to the object\n",
      "\n"
     ]
    }
   ],
   "source": [
    "help(MyClass)"
   ]
  },
  {
   "cell_type": "markdown",
   "id": "bc7263f7-1a77-4863-8006-1a471d34bdb4",
   "metadata": {},
   "source": [
    "```python\n",
    "my_object = MyClass()\n",
    "```"
   ]
  },
  {
   "cell_type": "code",
   "execution_count": 11,
   "id": "806c1947-4c74-4f56-9cef-380e69a1e3a4",
   "metadata": {},
   "outputs": [
    {
     "data": {
      "text/plain": [
       "__main__.MyClass"
      ]
     },
     "execution_count": 11,
     "metadata": {},
     "output_type": "execute_result"
    }
   ],
   "source": [
    "# Class of the object\n",
    "my_object.__class__"
   ]
  },
  {
   "cell_type": "code",
   "execution_count": 18,
   "id": "cf20525a-bd0a-4756-af17-5c2f7e613118",
   "metadata": {},
   "outputs": [
    {
     "data": {
      "text/plain": [
       "__main__.MyClass"
      ]
     },
     "execution_count": 18,
     "metadata": {},
     "output_type": "execute_result"
    }
   ],
   "source": [
    "# Class of the object\n",
    "type(my_object)"
   ]
  },
  {
   "cell_type": "code",
   "execution_count": 21,
   "id": "de6d7fcc-8ff8-4888-938b-9f1373fe6747",
   "metadata": {},
   "outputs": [
    {
     "data": {
      "text/plain": [
       "True"
      ]
     },
     "execution_count": 21,
     "metadata": {},
     "output_type": "execute_result"
    }
   ],
   "source": [
    "# check whether the Class is Class of the object\n",
    "isinstance(my_object, MyClass)"
   ]
  },
  {
   "cell_type": "code",
   "execution_count": 24,
   "id": "60f75679-46e7-442a-9bae-ae6364fe57ff",
   "metadata": {},
   "outputs": [
    {
     "name": "stdout",
     "output_type": "stream",
     "text": [
      "Help on MyClass in module __main__ object:\n",
      "\n",
      "class MyClass(builtins.object)\n",
      " |  Data descriptors defined here:\n",
      " |  \n",
      " |  __dict__\n",
      " |      dictionary for instance variables\n",
      " |  \n",
      " |  __weakref__\n",
      " |      list of weak references to the object\n",
      "\n"
     ]
    }
   ],
   "source": [
    "help(my_object)"
   ]
  },
  {
   "cell_type": "code",
   "execution_count": 25,
   "id": "2470d6c7-070f-4f53-ad6e-c63257146e0f",
   "metadata": {},
   "outputs": [
    {
     "name": "stdout",
     "output_type": "stream",
     "text": [
      "Help on class type in module builtins:\n",
      "\n",
      "class type(object)\n",
      " |  type(object) -> the object's type\n",
      " |  type(name, bases, dict, **kwds) -> a new type\n",
      " |  \n",
      " |  Methods defined here:\n",
      " |  \n",
      " |  __call__(self, /, *args, **kwargs)\n",
      " |      Call self as a function.\n",
      " |  \n",
      " |  __delattr__(self, name, /)\n",
      " |      Implement delattr(self, name).\n",
      " |  \n",
      " |  __dir__(self, /)\n",
      " |      Specialized __dir__ implementation for types.\n",
      " |  \n",
      " |  __getattribute__(self, name, /)\n",
      " |      Return getattr(self, name).\n",
      " |  \n",
      " |  __init__(self, /, *args, **kwargs)\n",
      " |      Initialize self.  See help(type(self)) for accurate signature.\n",
      " |  \n",
      " |  __instancecheck__(self, instance, /)\n",
      " |      Check if an object is an instance.\n",
      " |  \n",
      " |  __or__(self, value, /)\n",
      " |      Return self|value.\n",
      " |  \n",
      " |  __repr__(self, /)\n",
      " |      Return repr(self).\n",
      " |  \n",
      " |  __ror__(self, value, /)\n",
      " |      Return value|self.\n",
      " |  \n",
      " |  __setattr__(self, name, value, /)\n",
      " |      Implement setattr(self, name, value).\n",
      " |  \n",
      " |  __sizeof__(self, /)\n",
      " |      Return memory consumption of the type object.\n",
      " |  \n",
      " |  __subclasscheck__(self, subclass, /)\n",
      " |      Check if a class is a subclass.\n",
      " |  \n",
      " |  __subclasses__(self, /)\n",
      " |      Return a list of immediate subclasses.\n",
      " |  \n",
      " |  mro(self, /)\n",
      " |      Return a type's method resolution order.\n",
      " |  \n",
      " |  ----------------------------------------------------------------------\n",
      " |  Class methods defined here:\n",
      " |  \n",
      " |  __prepare__(...)\n",
      " |      __prepare__() -> dict\n",
      " |      used to create the namespace for the class statement\n",
      " |  \n",
      " |  ----------------------------------------------------------------------\n",
      " |  Static methods defined here:\n",
      " |  \n",
      " |  __new__(*args, **kwargs)\n",
      " |      Create and return a new object.  See help(type) for accurate signature.\n",
      " |  \n",
      " |  ----------------------------------------------------------------------\n",
      " |  Data descriptors defined here:\n",
      " |  \n",
      " |  __abstractmethods__\n",
      " |  \n",
      " |  __annotations__\n",
      " |  \n",
      " |  __dict__\n",
      " |  \n",
      " |  __text_signature__\n",
      " |  \n",
      " |  ----------------------------------------------------------------------\n",
      " |  Data and other attributes defined here:\n",
      " |  \n",
      " |  __base__ = <class 'object'>\n",
      " |      The base class of the class hierarchy.\n",
      " |      \n",
      " |      When called, it accepts no arguments and returns a new featureless\n",
      " |      instance that has no instance attributes and cannot be given any.\n",
      " |  \n",
      " |  \n",
      " |  __bases__ = (<class 'object'>,)\n",
      " |  \n",
      " |  __basicsize__ = 904\n",
      " |  \n",
      " |  __dictoffset__ = 264\n",
      " |  \n",
      " |  __flags__ = 2148031744\n",
      " |  \n",
      " |  __itemsize__ = 40\n",
      " |  \n",
      " |  __mro__ = (<class 'type'>, <class 'object'>)\n",
      " |  \n",
      " |  __weakrefoffset__ = 368\n",
      "\n"
     ]
    }
   ],
   "source": [
    "help(type)"
   ]
  },
  {
   "cell_type": "markdown",
   "id": "df96d3f2-024f-4a71-a931-b9a4abd9e13a",
   "metadata": {},
   "source": [
    "## Class Attributes"
   ]
  },
  {
   "cell_type": "markdown",
   "id": "4f1b2fe8-ded6-43be-954e-4384a019b102",
   "metadata": {},
   "source": [
    "**Class attributes** are **common** for all the Class Instances (Object)."
   ]
  },
  {
   "cell_type": "code",
   "execution_count": 42,
   "id": "28795c20-070c-45ea-b787-5ab7bf7f81d7",
   "metadata": {},
   "outputs": [],
   "source": [
    "class MyClass:\n",
    "    language = \"Python\"\n",
    "    version = \"3.11\""
   ]
  },
  {
   "cell_type": "markdown",
   "id": "75a65aeb-53d6-47cb-9e52-82788d458e16",
   "metadata": {},
   "source": [
    "**MyClass** is a **Class** but it is also an **object** of type **type**."
   ]
  },
  {
   "cell_type": "code",
   "execution_count": 43,
   "id": "e26bf27c-d45e-4f07-a480-02dddeca501e",
   "metadata": {},
   "outputs": [
    {
     "name": "stdout",
     "output_type": "stream",
     "text": [
      "<class '__main__.MyClass'> <class '__main__.MyClass'>\n",
      "Python Python\n",
      "<class '__main__.MyClass'> <class '__main__.MyClass'>\n",
      "C++ Python\n"
     ]
    }
   ],
   "source": [
    "p = MyClass()\n",
    "q = MyClass()\n",
    "print(p.__class__, q.__class__)\n",
    "print(p.language, q.language)\n",
    "\n",
    "p.language = \"C++\"\n",
    "\n",
    "print(p.__class__, q.__class__)\n",
    "print(p.language, q.language)"
   ]
  },
  {
   "cell_type": "code",
   "execution_count": null,
   "id": "5dde4ec6-0401-44b5-b47a-d8e7d38d7abb",
   "metadata": {},
   "outputs": [],
   "source": []
  }
 ],
 "metadata": {
  "kernelspec": {
   "display_name": "Python 3 (ipykernel)",
   "language": "python",
   "name": "python3"
  },
  "language_info": {
   "codemirror_mode": {
    "name": "ipython",
    "version": 3
   },
   "file_extension": ".py",
   "mimetype": "text/x-python",
   "name": "python",
   "nbconvert_exporter": "python",
   "pygments_lexer": "ipython3",
   "version": "3.11.7"
  },
  "widgets": {
   "application/vnd.jupyter.widget-state+json": {
    "state": {},
    "version_major": 2,
    "version_minor": 0
   }
  }
 },
 "nbformat": 4,
 "nbformat_minor": 5
}
