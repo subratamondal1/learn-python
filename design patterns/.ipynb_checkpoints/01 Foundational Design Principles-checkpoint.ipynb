{
 "cells": [
  {
   "cell_type": "markdown",
   "id": "823f5361-689e-4123-8d20-5d1adb90738a",
   "metadata": {},
   "source": [
    "# 01 Foundational Design Principles"
   ]
  },
  {
   "cell_type": "markdown",
   "id": "60140599-4b97-4dbf-a884-12ce31c34d25",
   "metadata": {},
   "source": [
    "Design Principles are the **foundation** of well-architected software. They helps us to create **maintainable**, **scalable**, and **robust** applications while avoiding the pitfalls of bad design.\n",
    "\n",
    "**4 Foundational Design Principles:**\n",
    "\n",
    "1. Encapsulate What Varies\n",
    "2. Favor Composition Over Inheritance\n",
    "3. Program to Interfaces, Not Implementations\n",
    "4. Loose Coupling"
   ]
  },
  {
   "cell_type": "markdown",
   "id": "918e0437-4229-45bc-97ed-604a0c34fc19",
   "metadata": {},
   "source": [
    "## 1. \"Encapsulate What Varies\" principle"
   ]
  },
  {
   "cell_type": "markdown",
   "id": "deb16cae-14fe-4497-b6b0-80769ca7f1a4",
   "metadata": {},
   "source": [
    "One of the most common challenges in software development is **dealing with change**. Requirements evolve, technologies advance, and user needs also change. Therefore, your code must adapt without causing a ripple effect of modifications throughout your entire application. This is where the principle of **Encapsulate What Varies** comes into play."
   ]
  },
  {
   "cell_type": "markdown",
   "id": "2c409707-66e4-40eb-b478-5dfb21b8be58",
   "metadata": {},
   "source": [
    "### What does it mean?"
   ]
  },
  {
   "cell_type": "markdown",
   "id": "a2751375-316c-4faf-83d5-293b0c13e237",
   "metadata": {},
   "source": [
    "**Isolate** the parts of your code that are most likely to change and **encapsulate** them. By doing so, you create a protective barrier that shields the rest of your code from these elements that are subject to change. This encapsulation allows you to make changes to one part of your system without affecting others."
   ]
  },
  {
   "cell_type": "markdown",
   "id": "86a6e2d0-87f9-4c85-a21b-4c1e73cdb51c",
   "metadata": {},
   "source": [
    "### Benefits"
   ]
  },
  {
   "cell_type": "markdown",
   "id": "7c202944-030a-420e-af4b-99eeefb7162a",
   "metadata": {},
   "source": [
    "* **Ease of maintenance:** When changes are needed, modify only the encapsulated parts, reducing the risk of introducing bugs elsewhere.\n",
    "* **Enhanced flexibility:** Encapsulated components can be easily swapped or extended, providing a more adaptable architecture.\n",
    "* **Improved readability:** By isolating varying elements, your code becomes more organized and easier to understand."
   ]
  },
  {
   "cell_type": "markdown",
   "id": "8050c346-8f6b-4957-88fd-030fe0260d1e",
   "metadata": {},
   "source": [
    "### Techniques for achieving encapsulation"
   ]
  },
  {
   "cell_type": "markdown",
   "id": "cb4002d2-321a-426a-b191-ac982900de9f",
   "metadata": {},
   "source": [
    "**Encapsulation** helps in **data hiding** and **exposing** only the necessary functionalities. To enhance encapsulation we use:\n",
    "\n",
    "1. Polymorphism\n",
    "2. Getters\n",
    "3. Setters"
   ]
  },
  {
   "cell_type": "markdown",
   "id": "c5ffa48d-8e8a-464d-a616-8860f96cc4eb",
   "metadata": {},
   "source": [
    "### Polymorphism"
   ]
  },
  {
   "cell_type": "markdown",
   "id": "f147acd7-4845-4946-9471-8dbdd8147091",
   "metadata": {},
   "source": [
    "**Polymorphism** allows objects of different classes to be treated as objects of a **common superclass**. It is one of the **pillars** of object-oriented programming **(OOP)** that enables a single interface to represent different types. With Polymorphism we can implement the **strategy** design pattern."
   ]
  },
  {
   "cell_type": "markdown",
   "id": "da5dfde9-3f8f-452a-99a4-bfef321b8528",
   "metadata": {},
   "source": [
    "### Getters and Setters"
   ]
  },
  {
   "cell_type": "markdown",
   "id": "7c4cb202-3e1f-46e4-a6f8-138e21da90c9",
   "metadata": {},
   "source": [
    "**Getters and Setters** are **special methods** in a class that enable **controlled access** to attribute values. **`getters`** allow **reading** the values of attributes and **`setters`** allow us to **modify** the values of attributes. By using these methods, we can\n",
    "add validation logic or side effects such as logging, thus adhering to the principles of encapsulation. They provide a way to control and protect the state of an object and are particularly useful when you want to encapsulate complex attributes that are derived from other instance variables.\n",
    "\n",
    "To complement the **getters** and **setters** technique, Python offers a more elegant approach known as the **`@property`** technique. Built-in feature of Python that allows to **convert attribute access into method calls** seamlessly. With properties, you can ensure that an object retains its internal state against incorrect or harmful manipulation without having to explicitly define getter and setter methods.\n",
    "\n",
    "The **`@property`** decorator allows you to define a method that is automatically invoked when an attribute is accessed, effectively serving as a getter. Similarly, the **`@attribute_name.setter`** decorator allows you to define a method that acts as a setter, invoked when you attempt to change the value of an attribute."
   ]
  },
  {
   "cell_type": "code",
   "execution_count": 1,
   "id": "d422272e-3ebf-40a6-b52a-e2e7301eec52",
   "metadata": {},
   "outputs": [],
   "source": [
    "class Person:\n",
    "    def __init__(self, name, age):\n",
    "        self._name = name\n",
    "        self._age = age\n",
    "\n",
    "    @property\n",
    "    def age(self):\n",
    "        return self._age\n",
    "\n",
    "    @age.setter\n",
    "    def age(self, value):\n",
    "        if value > 0:\n",
    "            self._age = value\n",
    "        else:\n",
    "            print(\"Age must be positive\")\n",
    "\n",
    "person = Person(\"Bob\", 25)"
   ]
  },
  {
   "cell_type": "code",
   "execution_count": 2,
   "id": "a54b6c75-4c82-4a90-b52a-53a7e7f50bb2",
   "metadata": {},
   "outputs": [
    {
     "name": "stdout",
     "output_type": "stream",
     "text": [
      "25\n",
      "30\n",
      "Age must be positive\n"
     ]
    }
   ],
   "source": [
    "print(person.age) # This uses the getter\n",
    "person.age = 30 # This uses the setter\n",
    "print(person.age)\n",
    "person.age = -5"
   ]
  },
  {
   "cell_type": "markdown",
   "id": "7466049d-df0a-4e3b-861f-77dc3a56dfeb",
   "metadata": {},
   "source": [
    "### An example – Encapsulating using Polymorphism"
   ]
  },
  {
   "cell_type": "markdown",
   "id": "0229ceb2-3e63-47c7-aa42-a19591608bf0",
   "metadata": {},
   "source": [
    "**Polymorphism** is a powerful way to achieve **Encapsulation** of varying behavior. Let's see an example of a payment processing system where the payment-method option can vary. In such case, we must encapsulate each of payment-method in its own class:\n",
    "\n",
    "1. First define the **Base Class** for payment-methods, providing a **`process_payment()`** method that each specific payment-method will implement. This is where we **Encapsulate What Varies** the payment processing logic."
   ]
  },
  {
   "cell_type": "markdown",
   "id": "67f04b6d-92b9-4b7f-9eae-879a43494133",
   "metadata": {},
   "source": [
    "```python\n",
    "class PaymentBase:\n",
    "    def __init__(self, amount: int):\n",
    "        self.amount: int = amount\n",
    "    \n",
    "    def process_payment(self):\n",
    "        pass\n",
    "```"
   ]
  },
  {
   "cell_type": "markdown",
   "id": "8508b5b1-8cc9-4c11-8710-2c6d549fb447",
   "metadata": {},
   "source": [
    "2. Introduce the **CreditCard** and **PayPal Classes**, **inheriting** from **PaymentBase**, each providing their own implementation of **`process_payment`**. This is a classic way of polymorphism, as you can treat CreditCard and PayPal objects as instances of their **common superclass**."
   ]
  },
  {
   "cell_type": "markdown",
   "id": "66f198d8-3ea9-4ca1-853c-2092c5b86011",
   "metadata": {},
   "source": [
    "```python\n",
    "class CreditCard(PaymentBase):\n",
    "    def process_payment(self):\n",
    "        msg = f\"Credit card payment: {self.amount}\"\n",
    "        print(msg)\n",
    "\n",
    "class PayPal(PaymentBase):\n",
    "    def process_payment(self):\n",
    "        msg = f\"PayPal payment: {self.amount}\"\n",
    "        print(msg)\n",
    "```"
   ]
  },
  {
   "cell_type": "markdown",
   "id": "e84baa5f-f52e-4203-97e2-95e1a514020b",
   "metadata": {},
   "source": [
    "```python\n",
    "if __name__ == \"__main__\":\n",
    "    payments = [CreditCard(100), PayPal(200)]\n",
    "    \n",
    "    for payment in payments:\n",
    "        payment.process_payment()\n",
    "```"
   ]
  },
  {
   "cell_type": "markdown",
   "id": "f32b63e3-a41c-40d5-bd5f-66c0853f5673",
   "metadata": {},
   "source": [
    "* **`Inheritance \"is-a\" relationship:`** CreditCard is a PaymentBase. PayPal is a PaymentBase."
   ]
  },
  {
   "cell_type": "markdown",
   "id": "301dd23d-2d2e-4d8a-a24e-953aa8bf7e5e",
   "metadata": {},
   "source": [
    "The complete code:"
   ]
  },
  {
   "cell_type": "code",
   "execution_count": 3,
   "id": "2ac1ca9e-cd43-47cd-8bf9-65914190f25d",
   "metadata": {},
   "outputs": [
    {
     "name": "stdout",
     "output_type": "stream",
     "text": [
      "Credit card payment: 100\n",
      "PayPal payment: 200\n"
     ]
    }
   ],
   "source": [
    "class PaymentBase:\n",
    "    def __init__(self, amount: int):\n",
    "        self.amount: int = amount\n",
    "    \n",
    "    def process_payment(self):\n",
    "        pass\n",
    "\n",
    "class CreditCard(PaymentBase):\n",
    "    def process_payment(self):\n",
    "        msg = f\"Credit card payment: {self.amount}\"\n",
    "        print(msg)\n",
    "\n",
    "class PayPal(PaymentBase):\n",
    "    def process_payment(self):\n",
    "        msg = f\"PayPal payment: {self.amount}\"\n",
    "        print(msg)\n",
    "\n",
    "if __name__ == \"__main__\":\n",
    "    payments = [CreditCard(100), PayPal(200)]\n",
    "    \n",
    "    for payment in payments:\n",
    "        payment.process_payment()"
   ]
  },
  {
   "cell_type": "markdown",
   "id": "5ad9c5c1-be83-4f44-b007-ec5c9b063ba6",
   "metadata": {},
   "source": [
    "See, when the payment-method changes, the program adapts to produce the expected outcome. By **Encapsulating What Varies** here the payment-method, you can easily add new options or modify existing ones without affecting the core payment processing logic."
   ]
  },
  {
   "cell_type": "markdown",
   "id": "f2df34fd-021b-4df5-84c5-1fd488573d1f",
   "metadata": {},
   "source": [
    "### An example – Encapsulating using a Property"
   ]
  },
  {
   "cell_type": "markdown",
   "id": "b1f8e330-4cf0-407d-9ebc-b31ea74861b4",
   "metadata": {},
   "source": [
    "Let’s define a **Circle** class and show how to use Python’s **`@property`** technique to create a **getter** and a **setter** for its **radius** attribute.\n",
    "\n",
    "1. Start by defining the **Circle** class with its initialization method, where we initialize the **`_radius`** attribute:"
   ]
  },
  {
   "cell_type": "markdown",
   "id": "31099268-a7e7-42ec-a1f6-45ded62dfd46",
   "metadata": {},
   "source": [
    "```python\n",
    "class Circle:\n",
    "    def __init__(self, radius: int):\n",
    "        self._radius: int = radius\n",
    "```"
   ]
  },
  {
   "cell_type": "markdown",
   "id": "f2e079ff-a708-4d8a-9abf-82c068beb9cf",
   "metadata": {},
   "source": [
    "2. Add the **`radius`** property: a **`radius()`** method where we return the value from the underlying attribute, decorated using the **`@property`** decorator:"
   ]
  },
  {
   "cell_type": "markdown",
   "id": "b350605c-a402-48b8-9103-db58d26da8ad",
   "metadata": {},
   "source": [
    "```python\n",
    "    @property\n",
    "    def radius(self):\n",
    "        return self._radius\n",
    "```"
   ]
  },
  {
   "cell_type": "markdown",
   "id": "11962152-c55d-48b4-82b7-0126e9c0e8ff",
   "metadata": {},
   "source": [
    "3. Add the **`radius setter`** part: another **`radius()`** method where we do the actual job of modifying the underlying attribute, after a validation check, since we do not want to allow a negative value for the radius; this method is decorated by the special **`@radius.setter`** decorator:"
   ]
  },
  {
   "cell_type": "markdown",
   "id": "7362d559-4fff-4b8c-b4c3-93ba3433cc1a",
   "metadata": {},
   "source": [
    "```python\n",
    "    @radius.setter\n",
    "    def radius(self, value: int):\n",
    "        if value < 0:\n",
    "            raise ValueError(\"Radius cannot be negative!\")\n",
    "        self._radius = value\n",
    "```"
   ]
  },
  {
   "cell_type": "markdown",
   "id": "c887e95f-d0cb-4e90-8b98-e1695d96c4a4",
   "metadata": {},
   "source": [
    "4. Finally, add some lines that will help us test the class, as follows:"
   ]
  },
  {
   "cell_type": "markdown",
   "id": "d27dade3-4615-4bab-9d90-9d1221c728a5",
   "metadata": {},
   "source": [
    "```python\n",
    "if __name__ == \"__main__\":\n",
    "    circle = Circle(10)\n",
    "    print(f\"Initial radius: {circle.radius}\")\n",
    "    circle.radius = 15\n",
    "    print(f\"New radius: {circle.radius}\")\n",
    "```"
   ]
  },
  {
   "cell_type": "markdown",
   "id": "7edb2985-c790-4b1f-8de3-72bf86be6110",
   "metadata": {},
   "source": [
    "The complete code:"
   ]
  },
  {
   "cell_type": "code",
   "execution_count": 4,
   "id": "a23d66a6-51ff-40af-b3b4-77d0fbc796c8",
   "metadata": {},
   "outputs": [
    {
     "name": "stdout",
     "output_type": "stream",
     "text": [
      "Initial radius: 10\n",
      "New radius: 15\n"
     ]
    }
   ],
   "source": [
    "class Circle:\n",
    "    def __init__(self, radius: int):\n",
    "        self._radius: int = radius\n",
    "\n",
    "    @property\n",
    "    def radius(self):\n",
    "        return self._radius\n",
    "\n",
    "    @radius.setter\n",
    "    def radius(self, value: int):\n",
    "        if value < 0:\n",
    "            raise ValueError(\"Radius cannot be negative!\")\n",
    "        self._radius = value\n",
    "\n",
    "if __name__ == \"__main__\":\n",
    "    circle = Circle(10)\n",
    "    print(f\"Initial radius: {circle.radius}\")\n",
    "    circle.radius = 15\n",
    "    print(f\"New radius: {circle.radius}\")"
   ]
  },
  {
   "cell_type": "markdown",
   "id": "63584592-5c2e-42e0-a257-37d18bd50873",
   "metadata": {},
   "source": [
    "We saw how we can **Encapsulate** the **Circle’s radius** component so that we can change the technical aspects if needed, without breaking the class. For example, the validation code for the **setter** can evolve. We can even change the underlying attribute, **`_radius`**, and the behavior for the user of our code will remain unchanged."
   ]
  },
  {
   "cell_type": "markdown",
   "id": "0f6e31f2-831c-4a00-b2bb-ebcd74d8284b",
   "metadata": {},
   "source": [
    "## 2. \"Favor Composition Over Inheritance\" principle"
   ]
  },
  {
   "cell_type": "markdown",
   "id": "65628d7a-26d5-476b-8a02-0e032930f31d",
   "metadata": {},
   "source": [
    "In **OOP**, it’s **tempting** to create complex hierarchies of classes through **inheritance**. While inheritance has its merits, it can lead to tightly coupled code that is hard to maintain and extend. This is where the principle of **Favor Composition Over Inheritance** comes into the picture."
   ]
  },
  {
   "cell_type": "markdown",
   "id": "8a27d7e3-bbc9-4b7e-98d3-19b1bfd67a1d",
   "metadata": {},
   "source": [
    "### What does it mean?"
   ]
  },
  {
   "cell_type": "markdown",
   "id": "5940eea5-f0f9-4cfd-99a8-f7887dd40af9",
   "metadata": {},
   "source": [
    "Build Complex Objects by **Combining** Simpler Ones."
   ]
  },
  {
   "cell_type": "markdown",
   "id": "0451b17f-2496-4efa-8d4c-17c9045f701c",
   "metadata": {},
   "source": [
    "### Benefits"
   ]
  },
  {
   "cell_type": "markdown",
   "id": "123684e5-d5ec-4c40-80d4-156aea1746e9",
   "metadata": {},
   "source": [
    "- **Code Flexibility:** Composition allows to **change objects’ behavior at runtime**.\n",
    "\n",
    "- **Code Reusability:** Smaller, simpler objects can be reused across different parts of our application.\n",
    "\n",
    "- **Ease of maintenance:** With composition, you can **easily swap out** or **update individual components** without affecting the overall system."
   ]
  },
  {
   "cell_type": "markdown",
   "id": "4c30e46b-0bbe-4b1e-8dac-0314f006b40b",
   "metadata": {},
   "source": [
    "### Techniques for composition"
   ]
  },
  {
   "cell_type": "markdown",
   "id": "1a31179b-c272-4599-97ee-523bac517a54",
   "metadata": {},
   "source": [
    "**Composition** or **Aggregation** is **achieved through OOP by including instances of other classes within a class** known as **`“has-a” relationship`** between the class that is being composed and the classes that are being included. We can include other objects by simply instantiating them in the class’s **`__init__`** method or by passing them as parameters."
   ]
  },
  {
   "cell_type": "markdown",
   "id": "b314fe62-6eee-4c52-abef-24843e43eda7",
   "metadata": {},
   "source": [
    "### An example – compose a car using the engine"
   ]
  },
  {
   "cell_type": "markdown",
   "id": "8efe3d5a-96d9-47e2-b7eb-0753f10e480a",
   "metadata": {},
   "source": [
    "We can use **composition** by **including instances of other classes** within our class:\n",
    "\n",
    "1. Let’s first define the **Engine class** as follows, with its **`start()`** method:"
   ]
  },
  {
   "cell_type": "code",
   "execution_count": 6,
   "id": "1d39ff1b-44d8-4744-a652-750e49f3f56e",
   "metadata": {},
   "outputs": [],
   "source": [
    "class Engine:\n",
    "    def start(self):\n",
    "        print(\"Engine started\")"
   ]
  },
  {
   "cell_type": "markdown",
   "id": "5b635cdb-520a-4268-9aac-dc9e86b9d0fb",
   "metadata": {},
   "source": [
    "2. Then, let’s define the **Car class** as follows:"
   ]
  },
  {
   "cell_type": "code",
   "execution_count": 7,
   "id": "6408bfc4-08cb-4a64-a88f-4014e594b681",
   "metadata": {},
   "outputs": [],
   "source": [
    "class Car:\n",
    "    def __init__(self):\n",
    "        self.engine = Engine()\n",
    "        \n",
    "    def start(self):\n",
    "        self.engine.start()\n",
    "        print(\"Car started\")"
   ]
  },
  {
   "cell_type": "markdown",
   "id": "0b3eee90-bf2c-4970-a7c6-3ed5e2bd701e",
   "metadata": {},
   "source": [
    "3. Finally, create an instance of the **Car class** and call the **`start()`** method on that instance:"
   ]
  },
  {
   "cell_type": "code",
   "execution_count": 8,
   "id": "5e9a1a44-7c88-49d9-98d3-ed454f8c47f5",
   "metadata": {},
   "outputs": [
    {
     "name": "stdout",
     "output_type": "stream",
     "text": [
      "Engine started\n",
      "Car started\n"
     ]
    }
   ],
   "source": [
    "if __name__ == \"__main__\":\n",
    "    my_car = Car()\n",
    "    my_car.start()"
   ]
  },
  {
   "cell_type": "markdown",
   "id": "1d8561ab-39c0-4417-97c7-d230fa08c2c9",
   "metadata": {},
   "source": [
    "* **`Composition \"has-a\" relationship:`** Car has a Engine."
   ]
  },
  {
   "cell_type": "markdown",
   "id": "e8914baa-579b-4505-9653-9b3ef0e5ea15",
   "metadata": {},
   "source": [
    "The complete code:"
   ]
  },
  {
   "cell_type": "code",
   "execution_count": 10,
   "id": "134e67a8-b272-44ba-a409-18fee856c85b",
   "metadata": {},
   "outputs": [
    {
     "name": "stdout",
     "output_type": "stream",
     "text": [
      "Engine started\n",
      "Car started\n"
     ]
    }
   ],
   "source": [
    "class Engine:\n",
    "    def start(self):\n",
    "        print(\"Engine started\")\n",
    "\n",
    "class Car:\n",
    "    def __init__(self):\n",
    "        self.engine = Engine()\n",
    "        \n",
    "    def start(self):\n",
    "        self.engine.start()\n",
    "        print(\"Car started\")\n",
    "\n",
    "if __name__ == \"__main__\":\n",
    "    my_car = Car()\n",
    "    my_car.start()"
   ]
  },
  {
   "cell_type": "markdown",
   "id": "6c7f7fb4-c20d-44c5-b24f-5c6c7c5e1e42",
   "metadata": {},
   "source": [
    "See, the **Car class** is composed of an **Engine object**, thanks to the **`self`**. **`engine = Engine()`** line, allowing us to easily swap out the engine for another type without altering the **Car class** itself."
   ]
  }
 ],
 "metadata": {
  "kernelspec": {
   "display_name": "Python 3 (ipykernel)",
   "language": "python",
   "name": "python3"
  },
  "language_info": {
   "codemirror_mode": {
    "name": "ipython",
    "version": 3
   },
   "file_extension": ".py",
   "mimetype": "text/x-python",
   "name": "python",
   "nbconvert_exporter": "python",
   "pygments_lexer": "ipython3",
   "version": "3.11.7"
  },
  "widgets": {
   "application/vnd.jupyter.widget-state+json": {
    "state": {},
    "version_major": 2,
    "version_minor": 0
   }
  }
 },
 "nbformat": 4,
 "nbformat_minor": 5
}
