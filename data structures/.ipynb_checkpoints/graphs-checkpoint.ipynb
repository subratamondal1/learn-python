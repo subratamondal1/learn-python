{
 "cells": [
  {
   "cell_type": "markdown",
   "id": "a7ebef01-4545-4333-87bf-c5f0b789d5f9",
   "metadata": {},
   "source": [
    "# graphs\n",
    "> A **graph** is a set of nodes that are connected to each other in the form of a network.\n",
    "\n",
    "> to represent a graph data structure we need two things:\n",
    "> * **vertex(V)** also known as **nodes**\n",
    "> * **edges(E)**\n",
    "\n",
    "<img src=\"https://www.simplilearn.com/ice9/free_resources_article_thumb/Graph%20Data%20Structure%20-%20Soni/what-is-graphs-in-data-structure.png\" width=500>\n",
    "\n",
    "> there are two types of graphs:\n",
    "> * **undirected**\n",
    "> * **directed**\n",
    "\n",
    "<img src=\"https://cdn-images-1.medium.com/max/1600/1*Xr7NbsTsh5bQFVG9kvKvUw.jpeg\" width=500>\n",
    "\n",
    "> **`Graph terminologies`**\n",
    "> * **Degree of a Vertex:** is the total number of edges connected to a particular vertex. There are two types of degrees:\n",
    "> * **In-Degree:** The total number of incoming edges of a vertex.\n",
    "> * **Out-Degree:** The total number of outgoing edges of a vertex.\n",
    "> * **Parallel Edges:** Two undirected edges are parallel if they have the same end vertices. Two directed edges are parallel if they have the same starting and ending vertices.\n",
    "> * **Self Loop:** This occurs when an edge starts and ends on the same vertex.\n",
    "> * **Adjacency:** Two vertices are said to be adjacent if there is an edge connecting them directly.\n",
    "\n",
    "<img src=\"https://www.simplilearn.com/ice9/free_resources_article_thumb/Trees-Soni/degree-of-tree-data-structure.png\" width=400>\n",
    "\n",
    "> * **in-degree** number of edges comes toward the vertex\n",
    "> * **out-degree** number of edges goes away from the vertex\n",
    "\n",
    "<img src=\"https://www.baeldung.com/wp-content/uploads/sites/4/2023/03/Directed-graph.jpg\" width=350>\n",
    "\n",
    "> * **maximum number of edges** for a given number of **vertex(v)** in **undirected graph** is `(v * (v-1))/2`\n",
    "> * **maximum number of edges** for a given number of **vertex(v)** in **directed graph** is `(v * (v-1))`\n",
    "\n",
    "<img src=\"https://cdn3.edurev.in/ApplicationImages/Temp/71a2ba89-57c4-4e5a-ba0e-404ad873b406_lg.jpg\" width=300>\n",
    "\n",
    "> * **cyclic graph** is when a path starts from a vertex and the path ends up at that same vertex only.\n",
    "\n",
    "<img src=\"https://miro.medium.com/max/3328/1*GnMghFkLYP6LGbbGsPYLww.jpeg\" width=500>\n",
    "<img src=\"https://www.researchgate.net/publication/368310992/figure/fig1/AS:11431281118541584@1675795293988/Graph-types-a-undirected-cyclic-b-directed-cyclic-c-directed-acyclic.png\" width=500>\n",
    "\n",
    "<img src=\"https://res.cloudinary.com/practicaldev/image/fetch/s--VTk_76Yb--/c_limit%2Cf_auto%2Cfl_progressive%2Cq_auto%2Cw_880/https://cdn-images-1.medium.com/max/1024/1*X01zera2nJmsk2Z_6Y4wtA.jpeg\" width=500>"
   ]
  },
  {
   "cell_type": "markdown",
   "id": "b82600ce-be02-4560-affa-a8df9ad75be4",
   "metadata": {},
   "source": [
    "# graph representation\n",
    "1. **adjacency matrix**\n",
    "    * in case of **undirected graph** the adjacency matrix will have **symmetry** along its diagonal.\n",
    "    * <img src=\"https://www.ebi.ac.uk/training/online/courses/network-analysis-of-protein-interaction-data-an-introduction/wp-content/uploads/sites/64/2020/08/new-fig-4.png\" width=600>\n",
    "2. **adjacency list**\n",
    "    * in case of **directed graph** the adjacency matrix will have **no symmetry** along its diagonal.\n",
    "    * <img src=\"https://kajabi-storefronts-production.kajabi-cdn.com/kajabi-storefronts-production/blogs/27029/images/FVKdPFTlTmyXQBiypTge_375dbebabc31445637557c91ec1fe4de.jpg\" width=500>"
   ]
  },
  {
   "cell_type": "markdown",
   "id": "0d60dc7e-e249-4468-926a-9e7e605910ee",
   "metadata": {},
   "source": [
    "## time and space complexity\n",
    "* **space complexity** of an adjacency matrix is **O(V^2)**, where **V** is the number of vertices in the graph.\n",
    "* **space complexity** of an adjacency list is **O(V+E)**, where **E** is the number of edges in the graph."
   ]
  },
  {
   "cell_type": "markdown",
   "id": "a72458a5-8748-47da-9429-e567287d5537",
   "metadata": {},
   "source": [
    "## graph data structure from scratch\n",
    "\n",
    "<img src=\"https://www.simplilearn.com/ice9/free_resources_article_thumb/Graph%20Data%20Structure%20-%20Soni/what-is-graphs-in-data-structure.png\" width=500>\n",
    "\n",
    "```python\n",
    "{\n",
    "    \"1\":[2,3],\n",
    "    \"2\":[1,3,4,5],\n",
    "    \"3\":[1,2,5],\n",
    "    \"4\":[2,5],\n",
    "    \"5\":[2,3,4]\n",
    "}\n",
    "```"
   ]
  },
  {
   "cell_type": "markdown",
   "id": "18aada21-ee19-48be-8651-46e602519dd5",
   "metadata": {},
   "source": [
    "**u** and **v** are vertex.\n",
    "\n",
    "> * In case of **undirected graph** if we know that u is connected to v then we also know that v is connected to u since it has no direction, but in case of directed graph we can't say that since it has direction. **This concept is very important.**"
   ]
  },
  {
   "cell_type": "code",
   "execution_count": 41,
   "id": "26977716-60f3-4e8f-b62c-c024349a9cca",
   "metadata": {},
   "outputs": [
    {
     "name": "stdout",
     "output_type": "stream",
     "text": [
      "1 --> set()\n",
      "2 --> set()\n",
      "3 --> set()\n",
      "4 --> set()\n",
      "5 --> set()\n",
      "1 --> {2, 3}\n",
      "2 --> {1, 3, 4, 5}\n",
      "3 --> {1, 2, 5}\n",
      "4 --> {2, 5}\n",
      "5 --> {2, 3, 4}\n",
      "degree of vertex 4 is 2\n"
     ]
    }
   ],
   "source": [
    "vertex = {1,2,3,4,5}\n",
    "class Graph:\n",
    "    def __init__(self,vertices:set, is_directed=False) -> None:\n",
    "        self.vertices:set=vertices\n",
    "        self.adjacency_list:dict[int,set]={}\n",
    "        self.is_directed:bool=is_directed\n",
    "        \n",
    "        # initialize each vertex with empty store to store the edges\n",
    "        for vertex in self.vertices:\n",
    "            self.adjacency_list[vertex]= set()\n",
    "\n",
    "    def print_adjacency_list(self) -> None:\n",
    "        for vertex in self.vertices:\n",
    "            print(f\"{vertex} --> {self.adjacency_list[vertex]}\")\n",
    "\n",
    "    # vertex u --> vertex v\n",
    "    def add_edge(self,u:int, v:int) -> None:\n",
    "        \"\"\"if Directed Graph: make sure edge goes from u to v.\\n\n",
    "        if Undirected Graph: doesn't matter.\n",
    "        \"\"\"\n",
    "        self.adjacency_list[u].add(v)\n",
    "        if not self.is_directed:\n",
    "            self.adjacency_list[v].add(u)\n",
    "\n",
    "    def degree(self,vertex) -> int:\n",
    "        return len(self.adjacency_list[vertex])\n",
    "\n",
    "graph=Graph(vertex, is_directed=False)\n",
    "graph.print_adjacency_list()\n",
    "\n",
    "all_vertices:set[tuple] = {\n",
    "    (1,2),(1,3),(2,1),(2,3),(2,4),(2,5),(3,1),(3,2),(3,5),(4,2),(4,5),(5,2),(5,3),(5,4)\n",
    "}\n",
    "for u,v in all_vertices:\n",
    "    graph.add_edge(u=u,v=v)\n",
    "\n",
    "graph.print_adjacency_list()\n",
    "\n",
    "print(f\"degree of vertex 4 is {graph.degree(vertex=4)}\")"
   ]
  },
  {
   "cell_type": "markdown",
   "id": "509eb3ad-15f5-4df3-854a-9295756baa99",
   "metadata": {},
   "source": [
    "# graph traversal\n",
    "<img src=\"https://cdn-images-1.medium.com/max/1600/1*VM84VPcCQe0gSy44l9S5yA.jpeg\" width=500>"
   ]
  },
  {
   "cell_type": "markdown",
   "id": "8df54326-9f0c-4a09-a1f0-fff1d1ba2473",
   "metadata": {},
   "source": [
    "## breadth first search\n",
    "> visit source's immediate friends then their immediate friends.\n",
    "\n",
    "<img src=\"https://www.simplilearn.com/ice9/free_resources_article_thumb/Graph%20Data%20Structure%20-%20Soni/what-is-graphs-in-data-structure.png\" width=500>\n",
    "\n",
    "```python\n",
    "{\n",
    "    1 : [2,3]\n",
    "    2 : [1,3,5,4]\n",
    "    3 : [1,2,5]\n",
    "    4 : [2,5]\n",
    "    5 : [2,3,4]\n",
    "}\n",
    "```"
   ]
  },
  {
   "cell_type": "code",
   "execution_count": 61,
   "id": "676216b5-bb5e-4943-bd3d-e4ef1b2191ef",
   "metadata": {},
   "outputs": [],
   "source": [
    "from queue import Queue\n",
    "adjacency_list = {\n",
    "    1:set({2,3}),\n",
    "    2:set({1,3,5,4}),\n",
    "    3:set({1,2,5}),\n",
    "    4:set({2,5}),\n",
    "    5:set({2,3,4})\n",
    "}\n",
    "\n",
    "def BFS(adjacency_list:dict[int:set],source_vertex:int,total_vertices:int):\n",
    "    que=Queue()\n",
    "    visited:list[bool]=[False]*total_vertices\n",
    "    que.put(source_vertex)\n",
    "\n",
    "    while not que.empty():\n",
    "        pass"
   ]
  },
  {
   "cell_type": "code",
   "execution_count": 57,
   "id": "5506ffcc-9106-4b1c-b8e2-d4d7a3349e0b",
   "metadata": {},
   "outputs": [
    {
     "data": {
      "text/plain": [
       "[False, False, False, False, False, False, False]"
      ]
     },
     "execution_count": 57,
     "metadata": {},
     "output_type": "execute_result"
    }
   ],
   "source": [
    "[False]*7"
   ]
  },
  {
   "cell_type": "code",
   "execution_count": null,
   "id": "3d79b2a2-6850-4c01-80d0-d71c632f990b",
   "metadata": {},
   "outputs": [],
   "source": []
  }
 ],
 "metadata": {
  "kernelspec": {
   "display_name": "Python 3 (ipykernel)",
   "language": "python",
   "name": "python3"
  },
  "language_info": {
   "codemirror_mode": {
    "name": "ipython",
    "version": 3
   },
   "file_extension": ".py",
   "mimetype": "text/x-python",
   "name": "python",
   "nbconvert_exporter": "python",
   "pygments_lexer": "ipython3",
   "version": "3.11.6"
  }
 },
 "nbformat": 4,
 "nbformat_minor": 5
}
