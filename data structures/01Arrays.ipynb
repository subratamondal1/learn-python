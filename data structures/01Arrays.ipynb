{
 "cells": [
  {
   "cell_type": "markdown",
   "id": "474fc9a2-16ba-4a77-93db-c62e77f13a22",
   "metadata": {},
   "source": [
    "# what is data strcuture?\n",
    "> **how** to organize and store the data in such a way that we can **retrieve** it, or **manipulate** it **efficiently** in future."
   ]
  },
  {
   "cell_type": "markdown",
   "id": "0f5c7f5a-a069-4800-a868-fda181e3f063",
   "metadata": {},
   "source": [
    "# types of data structures?\n",
    "1. **linear** data structure (can have atmost 2 neighbours)\n",
    "    * arrays\n",
    "    * linked-list\n",
    "    * stacks & queues\n",
    "2. **non-linear** data structure\n",
    "    * tree\n",
    "    * graph\n",
    "3. **hashing**"
   ]
  },
  {
   "cell_type": "code",
   "execution_count": null,
   "id": "0e0e1421-7b2e-4373-9ae6-5bbfeda1d3a0",
   "metadata": {},
   "outputs": [],
   "source": []
  }
 ],
 "metadata": {
  "kernelspec": {
   "display_name": "Python 3 (ipykernel)",
   "language": "python",
   "name": "python3"
  },
  "language_info": {
   "codemirror_mode": {
    "name": "ipython",
    "version": 3
   },
   "file_extension": ".py",
   "mimetype": "text/x-python",
   "name": "python",
   "nbconvert_exporter": "python",
   "pygments_lexer": "ipython3",
   "version": "3.11.6"
  }
 },
 "nbformat": 4,
 "nbformat_minor": 5
}
