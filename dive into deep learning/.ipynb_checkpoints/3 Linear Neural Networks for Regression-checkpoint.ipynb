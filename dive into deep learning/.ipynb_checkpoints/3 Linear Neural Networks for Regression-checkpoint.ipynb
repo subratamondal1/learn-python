{
 "cells": [
  {
   "cell_type": "markdown",
   "id": "8ce56777-7217-4ec5-a075-edd53fcfb53a",
   "metadata": {},
   "source": [
    "# Linear Neural Networks for Regression"
   ]
  },
  {
   "cell_type": "markdown",
   "id": "44dae6a3-4d10-4e29-ab92-b195f664dc19",
   "metadata": {},
   "source": [
    "Before we worry about making our neural networks **deep**, it will be helpful to implement some **shallow** ones, for which the inputs connect directly to the outputs. This will prove important for a few reasons. \n",
    "- First, rather than getting distracted by complicated architectures, we can focus on the basics of neural network training, including **parametrizing** the output layer, handling data, specifying a loss function, and training the model.\n",
    "- Second, this class of shallow networks happens to comprise the set of linear models, which subsumes many classical methods of statistical prediction, including **linear** and **softmax regression**.\n",
    "\n",
    "Understanding these classical tools is pivotal because they are widely used in many contexts and we will often need to use them as baselines when justifying the use of fancier architectures."
   ]
  },
  {
   "cell_type": "markdown",
   "id": "79c1af01-c802-49cd-b609-84e40ff86fb1",
   "metadata": {},
   "source": [
    "## Linear Regression"
   ]
  },
  {
   "cell_type": "markdown",
   "id": "da26cff3-c325-435c-a20a-8ec9acf37c21",
   "metadata": {},
   "source": [
    "Regression problems pop up whenever we want to predict a numerical value. Common examples include predicting prices (of homes, stocks, etc.), predicting the length of stay (for patients in the hospital), forecasting demand (for retail sales), among numerous others. Not every prediction problem is one of classical regression. Later on, we will introduce classification problems, where the goal is to predict membership among a set of categories.\n",
    "\n",
    "As a running example, suppose that we wish to estimate the prices of houses (in dollars) based on their area (in square feet) and age (in years). To develop a model for predicting house prices, we need to get our hands on data, including the sales price, area, and age for each home. In the terminology of machine learning, the dataset is called a **training dataset** or **training set**, and each row (containing the data corresponding to one sale) is called an **example** (or data point, instance, sample). The thing we are trying to predict (price) is called a **label** (or **target**). The variables (age and area) upon which the predictions are based are called **features** (or **covariates**)."
   ]
  },
  {
   "cell_type": "code",
   "execution_count": 1,
   "id": "ab3bef7a-ca64-4f8a-8fe1-c3c376fbbcc0",
   "metadata": {},
   "outputs": [],
   "source": [
    "%matplotlib inline\n",
    "import math\n",
    "import time\n",
    "import numpy as np\n",
    "import torch\n",
    "from d2l import torch as d2l"
   ]
  },
  {
   "cell_type": "markdown",
   "id": "f878cdd2-12ec-496d-934d-ca48235d7977",
   "metadata": {},
   "source": [
    "## Basics"
   ]
  },
  {
   "cell_type": "markdown",
   "id": "2154173d-d98b-4a9d-98dc-c22637041875",
   "metadata": {},
   "source": [
    "<img src=\"lr1.png\" />"
   ]
  },
  {
   "cell_type": "markdown",
   "id": "512f455d-c1fd-4b87-9819-0f07a8a4df4b",
   "metadata": {},
   "source": [
    "## Model"
   ]
  },
  {
   "cell_type": "markdown",
   "id": "0f1fc6a4-5c06-417b-b098-029d6454f718",
   "metadata": {},
   "source": [
    "<img src=\"model1.png\" />"
   ]
  },
  {
   "cell_type": "markdown",
   "id": "7ddb65e8-435c-46cb-95a7-f2f4a86adb15",
   "metadata": {},
   "source": [
    "<img src=\"model2.png\" />"
   ]
  },
  {
   "cell_type": "code",
   "execution_count": null,
   "id": "7471006d-6309-4768-8f70-36dd7aaf8c8e",
   "metadata": {},
   "outputs": [],
   "source": []
  }
 ],
 "metadata": {
  "kernelspec": {
   "display_name": "Python 3 (ipykernel)",
   "language": "python",
   "name": "python3"
  },
  "language_info": {
   "codemirror_mode": {
    "name": "ipython",
    "version": 3
   },
   "file_extension": ".py",
   "mimetype": "text/x-python",
   "name": "python",
   "nbconvert_exporter": "python",
   "pygments_lexer": "ipython3",
   "version": "3.11.7"
  },
  "widgets": {
   "application/vnd.jupyter.widget-state+json": {
    "state": {},
    "version_major": 2,
    "version_minor": 0
   }
  }
 },
 "nbformat": 4,
 "nbformat_minor": 5
}
