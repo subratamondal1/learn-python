{
 "cells": [
  {
   "cell_type": "markdown",
   "id": "80f1c690-507f-49a5-b11f-c887d0de45ba",
   "metadata": {},
   "source": [
    "# sliding window"
   ]
  },
  {
   "cell_type": "markdown",
   "id": "557d3259-bf0f-4476-8955-5e6421c5a495",
   "metadata": {},
   "source": [
    "## concept\n",
    "\n",
    "**Window:** or subset of elements within the sequence\n",
    "```python\n",
    "windowSum=0.0 \n",
    "```\n",
    "**Sliding the window:** moving the window one step at a time through the entire sequence\n",
    "```python\n",
    "windowStart+=1\n",
    "```\n",
    "**Processing:** as the window slides, perform some operations"
   ]
  },
  {
   "cell_type": "markdown",
   "id": "ec22c69d-6094-409c-ba7f-e5a991811643",
   "metadata": {},
   "source": [
    "## introduction"
   ]
  },
  {
   "cell_type": "code",
   "execution_count": 27,
   "id": "cfbb41e8-efe4-44e0-8be3-02f2f6850d89",
   "metadata": {},
   "outputs": [
    {
     "name": "stdout",
     "output_type": "stream",
     "text": [
      "i,j ---> 0, 0\n",
      "i,j ---> 0, 1\n",
      "i,j ---> 0, 2\n",
      "i,j ---> 0, 3\n",
      "i,j ---> 0, 4\n",
      "i,j ---> 1, 1\n",
      "i,j ---> 1, 2\n",
      "i,j ---> 1, 3\n",
      "i,j ---> 1, 4\n",
      "i,j ---> 1, 5\n",
      "i,j ---> 2, 2\n",
      "i,j ---> 2, 3\n",
      "i,j ---> 2, 4\n",
      "i,j ---> 2, 5\n",
      "i,j ---> 2, 6\n",
      "i,j ---> 3, 3\n",
      "i,j ---> 3, 4\n",
      "i,j ---> 3, 5\n",
      "i,j ---> 3, 6\n",
      "i,j ---> 3, 7\n",
      "i,j ---> 4, 4\n",
      "i,j ---> 4, 5\n",
      "i,j ---> 4, 6\n",
      "i,j ---> 4, 7\n",
      "i,j ---> 4, 8\n"
     ]
    },
    {
     "data": {
      "text/plain": [
       "[2.2, 2.8, 2.4, 3.6, 2.8]"
      ]
     },
     "execution_count": 27,
     "metadata": {},
     "output_type": "execute_result"
    }
   ],
   "source": [
    "Array, K=[1, 3, 2, 6, -1, 4, 1, 8, 2], 5\n",
    "\n",
    "def bruteForce(arr:list[int], k:int)->list[float]:\n",
    "    result=[]\n",
    "    for i in range(len(arr) - k+1):\n",
    "        sum=0.0\n",
    "        for j in range(i, i+k):\n",
    "            print(f\"i,j ---> {i}, {j}\")\n",
    "            sum+=arr[j]\n",
    "        result.append(sum/k)\n",
    "    return result\n",
    "\n",
    "bruteForce(arr=Array, k=K)"
   ]
  },
  {
   "cell_type": "code",
   "execution_count": 28,
   "id": "2bceae46-8f6e-4969-bcb2-e804cbd5ca22",
   "metadata": {},
   "outputs": [
    {
     "name": "stdout",
     "output_type": "stream",
     "text": [
      "windowStart, windowEnd ---> 0, 4\n",
      "windowStart, windowEnd ---> 1, 5\n",
      "windowStart, windowEnd ---> 2, 6\n",
      "windowStart, windowEnd ---> 3, 7\n",
      "windowStart, windowEnd ---> 4, 8\n"
     ]
    },
    {
     "data": {
      "text/plain": [
       "[2.2, 2.8, 2.4, 3.6, 2.8]"
      ]
     },
     "execution_count": 28,
     "metadata": {},
     "output_type": "execute_result"
    }
   ],
   "source": [
    "def slidingWindow(arr:list[int], k:int)->list[float]:\n",
    "    result=[]\n",
    "    windowSum=0.0 \n",
    "    windowStart=0\n",
    "    for windowEnd in range(len(arr)):\n",
    "        # add the next element to windowSum\n",
    "        windowSum+=arr[windowEnd]\n",
    "        # slide the window if and only if we hit the required size of \"k\"\n",
    "        if windowEnd>=k-1:\n",
    "            print(f\"windowStart, windowEnd ---> {windowStart}, {windowEnd}\")\n",
    "            # calculate the average\n",
    "            result.append(windowSum/k)\n",
    "            # subtract the element going out\n",
    "            windowSum-=arr[windowStart]\n",
    "            # slinding the window ahead\n",
    "            windowStart+=1\n",
    "    return result\n",
    "            \n",
    "slidingWindow(arr=Array, k=K)"
   ]
  },
  {
   "cell_type": "markdown",
   "id": "ddf20eb0-953c-4b39-9e4e-4a6b430db5be",
   "metadata": {},
   "source": [
    "## maximum sum subarray of size K"
   ]
  },
  {
   "cell_type": "markdown",
   "id": "0e3d8fc7-3977-4936-96fd-307fa879854e",
   "metadata": {},
   "source": [
    "* **input:** [2, 1, 5, 1, 3, 2], k=3\n",
    "* **output:** 9\n",
    "* **explanation:** subarray with maximum sum is [5, 1, 3]\n",
    "\n",
    "---\n",
    "\n",
    "* **input:** [2, 3, 4, 1, 5], k=2 \n",
    "* **output:** 7\n",
    "* **explanation:** subarray with maximum sum is [3, 4]"
   ]
  },
  {
   "cell_type": "code",
   "execution_count": 41,
   "id": "ed453ec8-dee0-48fd-af62-a74e51092151",
   "metadata": {},
   "outputs": [
    {
     "name": "stdout",
     "output_type": "stream",
     "text": [
      "i,j ---> 0, 0\n",
      "i,j ---> 0, 1\n",
      "i,j ---> 0, 2\n",
      "i,j ---> 1, 1\n",
      "i,j ---> 1, 2\n",
      "i,j ---> 1, 3\n",
      "i,j ---> 2, 2\n",
      "i,j ---> 2, 3\n",
      "i,j ---> 2, 4\n",
      "i,j ---> 3, 3\n",
      "i,j ---> 3, 4\n",
      "i,j ---> 3, 5\n"
     ]
    },
    {
     "data": {
      "text/plain": [
       "9.0"
      ]
     },
     "execution_count": 41,
     "metadata": {},
     "output_type": "execute_result"
    }
   ],
   "source": [
    "Array, K=[2, 1, 5, 1, 3, 2], 3\n",
    "\n",
    "def bruteForce(arr:list[int], k:int)->list[int]:\n",
    "    maxSum=0\n",
    "    windowSum=0.0\n",
    "    for i in range(len(arr) - k+1):\n",
    "        windowSum=0.0\n",
    "        for j in range(i, i+k):\n",
    "            print(f\"i,j ---> {i}, {j}\")\n",
    "            windowSum+=arr[j]\n",
    "        maxSum=max(maxSum, windowSum)\n",
    "    return maxSum\n",
    "\n",
    "bruteForce(arr=Array, k=K)"
   ]
  },
  {
   "cell_type": "code",
   "execution_count": 43,
   "id": "e0fae1d3-27d1-41df-b633-3ca760015382",
   "metadata": {},
   "outputs": [
    {
     "name": "stdout",
     "output_type": "stream",
     "text": [
      "0 0 0\n",
      "0 1 2\n",
      "0 2 3\n",
      "1 3 6\n"
     ]
    },
    {
     "data": {
      "text/plain": [
       "8"
      ]
     },
     "execution_count": 43,
     "metadata": {},
     "output_type": "execute_result"
    }
   ],
   "source": [
    "Array, K=[2, 1, 5, 1, 3, 2], 3\n",
    "\n",
    "def slidingWindow(arr:[int], k:int)->[int]:\n",
    "    windowStart=0\n",
    "    windowSum=0\n",
    "    maxSum=0\n",
    "    for windowEnd in range(len(arr) - k+1):\n",
    "        print(windowStart,windowEnd, windowSum)\n",
    "        windowSum+=arr[windowEnd]\n",
    "        if windowEnd>=k-1:\n",
    "            maxSum=max(maxSum,windowSum)\n",
    "            windowSum-=arr[windowStart]\n",
    "            windowStart+=1\n",
    "    return maxSum\n",
    "\n",
    "slidingWindow(arr=Array, k=K)"
   ]
  },
  {
   "cell_type": "markdown",
   "id": "65a6d45f-8251-4597-8434-cdc543e5ec8b",
   "metadata": {},
   "source": [
    "## smallest subarray with a given sum (easy)"
   ]
  },
  {
   "cell_type": "markdown",
   "id": "b8159010-c377-4fd3-a26c-b9760b89d3a2",
   "metadata": {},
   "source": [
    "* **input:** [2, 1, 5, 2, 3, 2], S=7 \n",
    "* **output:** 2\n",
    "* **explanation:** The smallest subarray with a sum great than or equal to '7' is [5, 2]\n",
    "\n",
    "---\n",
    "\n",
    "* **input:** [2, 1, 5, 2, 8], S=7 \n",
    "* **output:** 1\n",
    "* **explanation:** the smallest subarray with a sum greater than or equal to '7' is [8]"
   ]
  },
  {
   "cell_type": "code",
   "execution_count": 51,
   "id": "27bb5631-478d-40ee-a4e0-64df3e2dbaac",
   "metadata": {},
   "outputs": [
    {
     "data": {
      "text/plain": [
       "2"
      ]
     },
     "execution_count": 51,
     "metadata": {},
     "output_type": "execute_result"
    }
   ],
   "source": [
    "import math\n",
    "Array,S=[2, 1, 5, 2, 3, 2], 7\n",
    "\n",
    "def slidingWindow(arr:[int], s:int)->[int]:\n",
    "    minLength=math.inf\n",
    "    windowSum=0\n",
    "    windowStart=0\n",
    "    for windowEnd in range(len(arr)):\n",
    "        windowSum+=arr[windowEnd]\n",
    "        # shrink the window as small as possible until the windowSum is < s\n",
    "        while windowSum>=S:\n",
    "            minLength=min(minLength, windowEnd-windowStart+1)\n",
    "            windowSum-=arr[windowStart]\n",
    "            windowStart+=1\n",
    "    if minLength==math.inf:\n",
    "        return 0\n",
    "    return minLength    \n",
    "\n",
    "slidingWindow(arr=Array, s=S)"
   ]
  },
  {
   "cell_type": "markdown",
   "id": "a0ab7f07-c1c8-4066-9235-8d90f69f102c",
   "metadata": {},
   "source": [
    "## longest substring with K distinct characters\n",
    "> given a string, find the length of the **longest substring** in it **with no more than K distinct characters**.\n",
    "\n",
    "* **Input:** String=\"araaci\", K=2\n",
    "* **Output:** 4\n",
    "* **Explanation:** The longest substring with no more than '2' distinct characters is \"araa\".\n",
    "---\n",
    "\n",
    "* *Input:** String=\"cbbebi\", K=3\n",
    "* **Output:** 5\n",
    "* **Explanation:** The longest substrings with no more than '3' distinct characters are \"cbbeb\" & \"bbebi\".\n",
    "\n",
    "---\n",
    "\n",
    "* **Input:** String=\"cbbebi\", K=3\n",
    "* **Output:** 5\n",
    "* **Explanation:** The longest substrings with no more than '3' distinct characters are \"cbbeb\" & \"bbebi\"."
   ]
  },
  {
   "cell_type": "code",
   "execution_count": 70,
   "id": "b0ecba9f-6402-4219-ab8c-3ba754a8cacc",
   "metadata": {},
   "outputs": [
    {
     "name": "stdout",
     "output_type": "stream",
     "text": [
      "{'a': 1}\n",
      "{'a': 1, 'r': 1}\n",
      "{'a': 2, 'r': 1}\n",
      "{'a': 3, 'r': 1}\n",
      "{'a': 2, 'c': 1}\n",
      "{'c': 1, 'i': 1}\n"
     ]
    },
    {
     "data": {
      "text/plain": [
       "4"
      ]
     },
     "execution_count": 70,
     "metadata": {},
     "output_type": "execute_result"
    }
   ],
   "source": [
    "String, K=\"araaci\", 2\n",
    "\n",
    "def slidingWindow(string:str, k:int)->int:\n",
    "    maxLength=0\n",
    "    charFrequency=dict()\n",
    "    windowStart=0\n",
    "\n",
    "    # extend the window range [windowStart, windowEnd]\n",
    "    for windowEnd in range(len(string)):\n",
    "        windowEndCharacter=string[windowEnd]\n",
    "        if windowEndCharacter not in charFrequency:\n",
    "            charFrequency[windowEndCharacter]=0\n",
    "        charFrequency[windowEndCharacter]+=1\n",
    "\n",
    "        # shrink the sliding window until we are left with k distinct characters in charFrequency\n",
    "        while len(charFrequency)>k:\n",
    "            windowStartCharacter=string[windowStart]\n",
    "            charFrequency[windowStartCharacter]-=1\n",
    "            if charFrequency[windowStartCharacter]==0:\n",
    "                del charFrequency[windowStartCharacter]\n",
    "            # shrink the sliding window\n",
    "            windowStart+=1\n",
    "        # remember the length so far\n",
    "        maxLength=max(maxLength, windowEnd-windowStart+1)\n",
    "        print(charFrequency)\n",
    "    return maxLength\n",
    "    \n",
    "slidingWindow(String,K)"
   ]
  },
  {
   "cell_type": "markdown",
   "id": "525b3eb4-e609-4b01-83cc-a8fb25d18e0d",
   "metadata": {},
   "source": [
    "## fruits into baskets\n",
    "Given an array of characters where each character represents a fruit tree, you are given **two baskets** and your goal is to put **maximum number of fruits in each basket**. The only restriction is that each basket can have only one type of fruit.\n",
    "\n",
    "You can start with any tree, but once you have started you can’t skip a tree. You will pick one fruit from each tree until you cannot, i.e., you will stop when you have to pick from a third fruit type.\n",
    "\n",
    "Write a function to return the maximum number of fruits in both the baskets.\n",
    "\n",
    "* **Input:** Fruit=['A', 'B', 'C', 'A', 'C']\n",
    "* **Output:** 3\n",
    "* **Explanation:** We can put 2 'C' in one basket and one 'A' in the other from the subarray ['C', 'A', 'C']\n",
    "\n",
    "---\n",
    "\n",
    "* **Input:** Fruit=['A', 'B', 'C', 'B', 'B', 'C']\n",
    "* **Output:** 5\n",
    "* **Explanation:** We can put 3 'B' in one basket and two 'C' in the other basket. This can be done if we start with the second letter: ['B', 'C', 'B', 'B', 'C']"
   ]
  },
  {
   "cell_type": "code",
   "execution_count": 73,
   "id": "ebba7efa-18de-4750-9f20-3fe590026545",
   "metadata": {},
   "outputs": [
    {
     "name": "stdout",
     "output_type": "stream",
     "text": [
      "{'A': 1}\n",
      "{'A': 1, 'B': 1}\n",
      "{'B': 1, 'C': 1}\n",
      "{'C': 1, 'A': 1}\n",
      "{'C': 2, 'A': 1}\n"
     ]
    },
    {
     "data": {
      "text/plain": [
       "3"
      ]
     },
     "execution_count": 73,
     "metadata": {},
     "output_type": "execute_result"
    }
   ],
   "source": [
    "Fruit=[\"A\", \"B\", \"C\", \"A\", \"C\"]\n",
    "\n",
    "def slidingWindow(fruit:[str])->int:\n",
    "    basket=2\n",
    "    maxFruits=0\n",
    "    fruitFrequency=dict()\n",
    "    windowStart=0\n",
    "\n",
    "    # extend the window range [windowStart, windowEnd]\n",
    "    for windowEnd in range(len(fruit)):\n",
    "        windowEndFruit=fruit[windowEnd]\n",
    "        if windowEndFruit not in fruitFrequency:\n",
    "            fruitFrequency[windowEndFruit]=0\n",
    "        fruitFrequency[windowEndFruit]+=1\n",
    "\n",
    "        while len(fruitFrequency)>basket:\n",
    "            windowStartFruit=fruit[windowStart]\n",
    "            if windowStartFruit in fruitFrequency:\n",
    "                fruitFrequency[windowStartFruit]-=1\n",
    "            if fruitFrequency[windowStartFruit]==0:\n",
    "                del fruitFrequency[windowStartFruit]\n",
    "            # shrink the window\n",
    "            windowStart+=1\n",
    "        print(fruitFrequency)\n",
    "        maxFruits=max(maxFruits,windowEnd-windowStart+1)\n",
    "    return maxFruits\n",
    "\n",
    "slidingWindow(fruit=Fruit)"
   ]
  },
  {
   "cell_type": "markdown",
   "id": "d164df1c-1b58-4934-8445-22c9ce0255a2",
   "metadata": {},
   "source": [
    "## no-repeat substring (hard)\n",
    "Given a string, find the length of the **longest substring** which has **no repeating characters**.\n",
    "\n",
    "* **Input:** String=\"aabccbb\"\n",
    "* **Output:** 3\n",
    "* **Explanation:** The longest substring without any repeating characters is \"abc\".\n",
    "\n",
    "---\n",
    "\n",
    "* **Input:** String=\"abbbb\"\n",
    "* **Output:** 2\n",
    "* **Explanation:** The longest substring without any repeating characters is \"ab\".\n",
    "\n",
    "---\n",
    "\n",
    "* **Input:** String=\"abccde\"\n",
    "* **Output:** 3\n",
    "* **Explanation:** Longest substrings without any repeating characters are \"abc\" & \"cde\".\n"
   ]
  },
  {
   "cell_type": "code",
   "execution_count": 77,
   "id": "9c792a2c-24f5-4e1d-80a4-6badfd03054d",
   "metadata": {},
   "outputs": [
    {
     "data": {
      "text/plain": [
       "3"
      ]
     },
     "execution_count": 77,
     "metadata": {},
     "output_type": "execute_result"
    }
   ],
   "source": [
    "String=\"aabccbb\"\n",
    "\n",
    "def slidingWindow(string:str)->int:\n",
    "    windowStart=0\n",
    "    maxLength=0\n",
    "    charFrequency=dict()\n",
    "\n",
    "    for windowEnd in range(len(string)):\n",
    "        windowEndCharacter=string[windowEnd]\n",
    "        if windowEndCharacter in charFrequency:\n",
    "            windowStart=max(windowStart,charFrequency[windowEndCharacter]+1)\n",
    "        charFrequency[windowEndCharacter]=windowEnd\n",
    "        maxLength=max(maxLength,windowEnd-windowStart+1)\n",
    "    return maxLength\n",
    "\n",
    "slidingWindow(string=String)"
   ]
  },
  {
   "cell_type": "code",
   "execution_count": null,
   "id": "4cba455c-2f32-4b24-a9b8-efdef84a6fd1",
   "metadata": {},
   "outputs": [],
   "source": []
  }
 ],
 "metadata": {
  "kernelspec": {
   "display_name": "Python 3 (ipykernel)",
   "language": "python",
   "name": "python3"
  },
  "language_info": {
   "codemirror_mode": {
    "name": "ipython",
    "version": 3
   },
   "file_extension": ".py",
   "mimetype": "text/x-python",
   "name": "python",
   "nbconvert_exporter": "python",
   "pygments_lexer": "ipython3",
   "version": "3.11.6"
  }
 },
 "nbformat": 4,
 "nbformat_minor": 5
}
