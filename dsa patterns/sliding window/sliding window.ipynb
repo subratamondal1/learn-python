{
 "cells": [
  {
   "cell_type": "markdown",
   "id": "80f1c690-507f-49a5-b11f-c887d0de45ba",
   "metadata": {},
   "source": [
    "# sliding window"
   ]
  },
  {
   "cell_type": "markdown",
   "id": "557d3259-bf0f-4476-8955-5e6421c5a495",
   "metadata": {},
   "source": [
    "## Concept\n",
    "* **Window:** Imagine a fixed-size window (subset) of elements within your sequence.\n",
    "* **Slide:** The window moves one step at a time through the entire sequence.\n",
    "* **Processing:** As the window slides, you perform some operation or check some condition on the elements within the window."
   ]
  },
  {
   "cell_type": "markdown",
   "id": "ddf20eb0-953c-4b39-9e4e-4a6b430db5be",
   "metadata": {},
   "source": [
    "## maximum sum subarray of size K"
   ]
  },
  {
   "cell_type": "markdown",
   "id": "0e3d8fc7-3977-4936-96fd-307fa879854e",
   "metadata": {},
   "source": [
    "* **Input:** [2, 1, 5, 1, 3, 2], k=3\n",
    "* **Output:** 9\n",
    "* **Explanation:** Subarray with maximum sum is [5, 1, 3]."
   ]
  },
  {
   "cell_type": "code",
   "execution_count": null,
   "id": "ed453ec8-dee0-48fd-af62-a74e51092151",
   "metadata": {},
   "outputs": [],
   "source": [
    "def maxSumSubArray(a:list[int], k:int):\n",
    "    windowSum"
   ]
  }
 ],
 "metadata": {
  "kernelspec": {
   "display_name": "Python 3 (ipykernel)",
   "language": "python",
   "name": "python3"
  },
  "language_info": {
   "codemirror_mode": {
    "name": "ipython",
    "version": 3
   },
   "file_extension": ".py",
   "mimetype": "text/x-python",
   "name": "python",
   "nbconvert_exporter": "python",
   "pygments_lexer": "ipython3",
   "version": "3.11.6"
  }
 },
 "nbformat": 4,
 "nbformat_minor": 5
}
